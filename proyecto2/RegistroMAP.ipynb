{
 "cells": [
  {
   "cell_type": "markdown",
   "metadata": {},
   "source": [
    "# **Proyecto 2: Registro del núcleo básico de las víctimas de minas antipersonal** \n",
    "## **Parte 1:** ***Análisis y visualización de datos con Python***\n",
    "\n",
    "---\n",
    "![víctimas de minas antipersonal(MAP)](https://scontent.fbog17-1.fna.fbcdn.net/v/t39.30808-6/339606838_552778496996524_3523491359680729880_n.jpg?_nc_cat=109&ccb=1-7&_nc_sid=783fdb&_nc_eui2=AeEEw6Zsy16gYpUUqv6FAnvYf90YZ_7t_Y5_3Rhn_u39jszrPGzFNrC3nkOnfgeSYjI&_nc_ohc=VQwwFbDusl0AX961etM&_nc_zt=23&_nc_ht=scontent.fbog17-1.fna&oh=00_AfARv3PG5-TkfBsZ7eqqZntQ92V3HQ6KYydN_mwMK_mzow&oe=659C9531)| \n",
    "---"
   ]
  },
  {
   "cell_type": "markdown",
   "metadata": {},
   "source": [
    "# ***1 - Entendimiento del proyecto***\n",
    "\n",
    "\n",
    "---"
   ]
  },
  {
   "cell_type": "markdown",
   "metadata": {},
   "source": [
    "### **1.1 - Objetivos del proyecto.**\n",
    "\n",
    "La situación de las minas antipersonal en Colombia ha representado una problemática humanitaria y de seguridad durante décadas, dejando un legado de víctimas y áreas afectadas en diversas regiones del país. Estos artefactos explosivos improvisados han tenido un impacto devastador en las comunidades locales, causando muertes, lesiones graves y desplazamientos forzados. El Registro del Núcleo Básico de las Víctimas de Minas Antipersonal (MAP) se ha establecido como una herramienta fundamental para recopilar información precisa y detallada sobre las víctimas y proporcionar asistencia integral, rehabilitación y atención psicosocial. El análisis de datos relacionado con este registro es crucial para entender la magnitud del problema, identificar patrones geográficos y demográficos, evaluar las necesidades específicas de las víctimas y diseñar estrategias efectivas de prevención, desminado y atención. A través de técnicas de análisis de datos, se busca generar información resumida que permitan a las autoridades y organizaciones pertinentes tomar decisiones informadas, asignar recursos de manera eficiente y trabajar hacia la erradicación completa de las minas antipersonal en Colombia, garantizando así un futuro más seguro y libre de riesgos para todas las comunidades afectadas."
   ]
  },
  {
   "cell_type": "markdown",
   "metadata": {},
   "source": [
    "### **1.2 - Objetivo del proyecto.**\n",
    "\n",
    "El objetivo principal es obtener la mayor cantidad de información de utilidad que no es visible a simple vista en la base de datos proporcionada, por lo que se abordara el cumplimiento del objetivo mediante las siguientes metas parciales:\n",
    "-\tLimpieza y organización de las columnas de forma correcta validando  entradas lógicas de datos.\n",
    "-\tPresentación del informe del total de víctimas por año,  mes (Independiente del año), departamento, actividad, género y estado.\n"
   ]
  },
  {
   "cell_type": "markdown",
   "metadata": {},
   "source": [
    "# ***2 - Entendimiento de los datos***\n",
    "\n",
    "---\n",
    "En la etapa de entendimiento de los datos utilizaremos *Python* en análisis avanzado con estadística inferencial y modelado estadístico junto con las librerias *Matplotlib* y *Seaborn* en la construcción de visualizaciones de información. Utilizaremos el *dataset* de [Registro del núcleo básico de las víctimas de minas antipersonal\n",
    "(MAP)](https://storage.googleapis.com/media-help-ots-geomarketing-odoo/Situaci_n_V_ctimas_Minas_Antipersonal_en_Colombia_20240103.csv) dicho conjunto de datos se encuentra de manera pública en el portal.*\n",
    "\n",
    "El conjunto de datos cuenta con las siguientes variables:\n",
    "\n",
    "- departamento\n",
    "- codigodanedepartamento\n",
    "- municipio\n",
    "- codigodanemunicipio \n",
    "- tipoarea \n",
    "- sitio \n",
    "- anio\t\n",
    "- mes \n",
    "- rangoedad \n",
    "- grupoetnico \n",
    "- condicion \n",
    "- estado \n",
    "- genero \n",
    "- latitudcabecera \n",
    "- longitudcabecera \n",
    "- tipoevento \n",
    "- Ubicación\n",
    "- Actividad \n",
    "\n"
   ]
  },
  {
   "cell_type": "code",
   "execution_count": 8,
   "metadata": {},
   "outputs": [
    {
     "name": "stdout",
     "output_type": "stream",
     "text": [
      "Requirement already satisfied: plotly in c:\\users\\yuri ochoa\\appdata\\local\\programs\\python\\python310\\lib\\site-packages (5.18.0)\n",
      "Requirement already satisfied: tenacity>=6.2.0 in c:\\users\\yuri ochoa\\appdata\\local\\programs\\python\\python310\\lib\\site-packages (from plotly) (8.2.3)\n",
      "Requirement already satisfied: packaging in c:\\users\\yuri ochoa\\appdata\\local\\programs\\python\\python310\\lib\\site-packages (from plotly) (23.2)\n",
      "Requirement already satisfied: kaleido in c:\\users\\yuri ochoa\\appdata\\local\\programs\\python\\python310\\lib\\site-packages (0.2.1)\n"
     ]
    }
   ],
   "source": [
    "!pip install -U plotly\n",
    "!pip install -U kaleido"
   ]
  },
  {
   "cell_type": "code",
   "execution_count": 9,
   "metadata": {},
   "outputs": [
    {
     "name": "stdout",
     "output_type": "stream",
     "text": [
      "Plotly: 5.18.0\n"
     ]
    }
   ],
   "source": [
    "import plotly\n",
    "print(f'Plotly: {plotly.__version__}')"
   ]
  },
  {
   "cell_type": "code",
   "execution_count": 10,
   "metadata": {},
   "outputs": [],
   "source": [
    "#Importar librerías \n",
    "import numpy as np\n",
    "import pandas as pd\n",
    "import matplotlib.pyplot as plt\n",
    "import matplotlib as mpl\n",
    "import seaborn as sns\n",
    "from datetime import datetime\n",
    "from scipy import stats\n",
    "import statsmodels.api as sm\n",
    "import unicodedata\n",
    "import re\n",
    "import calendar\n",
    "\n",
    "%matplotlib inline"
   ]
  },
  {
   "cell_type": "code",
   "execution_count": 11,
   "metadata": {},
   "outputs": [
    {
     "name": "stdout",
     "output_type": "stream",
     "text": [
      "Python 3.10.5pandas 2.1.4\n",
      "NumPy 1.26.3\n",
      "\n",
      "Matplotlib 3.8.2\n",
      "seaborn 0.13.1\n"
     ]
    }
   ],
   "source": [
    "!python --version\n",
    "print(f'pandas { pd.__version__}')\n",
    "print(f'NumPy { np.__version__}')\n",
    "print(f'Matplotlib { mpl.__version__}')\n",
    "print(f'seaborn { sns.__version__}')"
   ]
  },
  {
   "cell_type": "markdown",
   "metadata": {},
   "source": [
    "Este proyecto fue realizado con las siguientes versiones:\n",
    "* Python 3.10.5\n",
    "* pandas 2.1.4\n",
    "* NumPy 1.26.3\n",
    "* Matplotlib 3.8.2\n",
    "* seaborn 0.13.1\n",
    "* Plotly: 5.18.0"
   ]
  },
  {
   "cell_type": "markdown",
   "metadata": {},
   "source": [
    "### **2.1 - Adquisición e integración de datos.**"
   ]
  },
  {
   "cell_type": "markdown",
   "metadata": {},
   "source": [
    "Para este paso importaremos el archivo de datos aprovechando la utilidad de carga de conjuntos de datos comunes de Seaborn."
   ]
  },
  {
   "cell_type": "code",
   "execution_count": 12,
   "metadata": {},
   "outputs": [
    {
     "data": {
      "text/html": [
       "<div>\n",
       "<style scoped>\n",
       "    .dataframe tbody tr th:only-of-type {\n",
       "        vertical-align: middle;\n",
       "    }\n",
       "\n",
       "    .dataframe tbody tr th {\n",
       "        vertical-align: top;\n",
       "    }\n",
       "\n",
       "    .dataframe thead th {\n",
       "        text-align: right;\n",
       "    }\n",
       "</style>\n",
       "<table border=\"1\" class=\"dataframe\">\n",
       "  <thead>\n",
       "    <tr style=\"text-align: right;\">\n",
       "      <th></th>\n",
       "      <th>departamento</th>\n",
       "      <th>codigodanedepartamento</th>\n",
       "      <th>municipio</th>\n",
       "      <th>codigodanemunicipio</th>\n",
       "      <th>tipoarea</th>\n",
       "      <th>sitio</th>\n",
       "      <th>ano</th>\n",
       "      <th>mes</th>\n",
       "      <th>rangoedad</th>\n",
       "      <th>grupoetnico</th>\n",
       "      <th>condicion</th>\n",
       "      <th>estado</th>\n",
       "      <th>genero</th>\n",
       "      <th>latitudcabecera</th>\n",
       "      <th>longitudcabecera</th>\n",
       "      <th>tipoevento</th>\n",
       "      <th>Ubicación</th>\n",
       "      <th>Actividad</th>\n",
       "    </tr>\n",
       "  </thead>\n",
       "  <tbody>\n",
       "    <tr>\n",
       "      <th>0</th>\n",
       "      <td>ANTIOQUIA</td>\n",
       "      <td>5</td>\n",
       "      <td>GRANADA</td>\n",
       "      <td>5,313</td>\n",
       "      <td>Rural</td>\n",
       "      <td>Sin información</td>\n",
       "      <td>2,006</td>\n",
       "      <td>1</td>\n",
       "      <td>Mayor de 18 años</td>\n",
       "      <td>No</td>\n",
       "      <td>Civil</td>\n",
       "      <td>Hombre</td>\n",
       "      <td>Herido</td>\n",
       "      <td>6.143703</td>\n",
       "      <td>-75.185183</td>\n",
       "      <td>Sin informacion</td>\n",
       "      <td>(6.143703, -75.185183)</td>\n",
       "      <td>Pasando, estando cerca</td>\n",
       "    </tr>\n",
       "    <tr>\n",
       "      <th>1</th>\n",
       "      <td>CAQUETA</td>\n",
       "      <td>18</td>\n",
       "      <td>MONTAÑITA</td>\n",
       "      <td>18,410</td>\n",
       "      <td>Rural</td>\n",
       "      <td>Sin información</td>\n",
       "      <td>2,009</td>\n",
       "      <td>12</td>\n",
       "      <td>Mayor de 18 años</td>\n",
       "      <td>No</td>\n",
       "      <td>Civil</td>\n",
       "      <td>Hombre</td>\n",
       "      <td>Herido</td>\n",
       "      <td>1.494944</td>\n",
       "      <td>-75.463090</td>\n",
       "      <td>Sin informacion</td>\n",
       "      <td>(1.49494421255, -75.4630895064)</td>\n",
       "      <td>Erradicador manual - PCI</td>\n",
       "    </tr>\n",
       "    <tr>\n",
       "      <th>2</th>\n",
       "      <td>PUTUMAYO</td>\n",
       "      <td>86</td>\n",
       "      <td>PUERTO ASÍS</td>\n",
       "      <td>86,568</td>\n",
       "      <td>Rural</td>\n",
       "      <td>Sin información</td>\n",
       "      <td>2,008</td>\n",
       "      <td>4</td>\n",
       "      <td>Mayor de 18 años</td>\n",
       "      <td>No</td>\n",
       "      <td>Civil</td>\n",
       "      <td>Hombre</td>\n",
       "      <td>Muerto</td>\n",
       "      <td>0.502569</td>\n",
       "      <td>-76.498180</td>\n",
       "      <td>Sin informacion</td>\n",
       "      <td>(0.502569, -76.49818)</td>\n",
       "      <td>Erradicador manual - PCI</td>\n",
       "    </tr>\n",
       "    <tr>\n",
       "      <th>3</th>\n",
       "      <td>CORDOBA</td>\n",
       "      <td>23</td>\n",
       "      <td>PUERTO LIBERTADOR</td>\n",
       "      <td>23,580</td>\n",
       "      <td>Rural</td>\n",
       "      <td>Sin información</td>\n",
       "      <td>2,009</td>\n",
       "      <td>11</td>\n",
       "      <td>Mayor de 18 años</td>\n",
       "      <td>No</td>\n",
       "      <td>Civil</td>\n",
       "      <td>Hombre</td>\n",
       "      <td>Herido</td>\n",
       "      <td>7.883545</td>\n",
       "      <td>-75.670508</td>\n",
       "      <td>Sin informacion</td>\n",
       "      <td>(7.883545, -75.670508)</td>\n",
       "      <td>Erradicador manual - PCI</td>\n",
       "    </tr>\n",
       "    <tr>\n",
       "      <th>4</th>\n",
       "      <td>CORDOBA</td>\n",
       "      <td>23</td>\n",
       "      <td>PUERTO LIBERTADOR</td>\n",
       "      <td>23,580</td>\n",
       "      <td>Rural</td>\n",
       "      <td>Sin información</td>\n",
       "      <td>2,009</td>\n",
       "      <td>11</td>\n",
       "      <td>Mayor de 18 años</td>\n",
       "      <td>No</td>\n",
       "      <td>Civil</td>\n",
       "      <td>Hombre</td>\n",
       "      <td>Herido</td>\n",
       "      <td>7.883545</td>\n",
       "      <td>-75.670508</td>\n",
       "      <td>Sin informacion</td>\n",
       "      <td>(7.883545, -75.670508)</td>\n",
       "      <td>Erradicador manual - PCI</td>\n",
       "    </tr>\n",
       "  </tbody>\n",
       "</table>\n",
       "</div>"
      ],
      "text/plain": [
       "  departamento  codigodanedepartamento          municipio codigodanemunicipio  \\\n",
       "0    ANTIOQUIA                       5            GRANADA               5,313   \n",
       "1      CAQUETA                      18          MONTAÑITA              18,410   \n",
       "2     PUTUMAYO                      86        PUERTO ASÍS              86,568   \n",
       "3      CORDOBA                      23  PUERTO LIBERTADOR              23,580   \n",
       "4      CORDOBA                      23  PUERTO LIBERTADOR              23,580   \n",
       "\n",
       "  tipoarea            sitio    ano  mes         rangoedad grupoetnico  \\\n",
       "0    Rural  Sin información  2,006    1  Mayor de 18 años          No   \n",
       "1    Rural  Sin información  2,009   12  Mayor de 18 años          No   \n",
       "2    Rural  Sin información  2,008    4  Mayor de 18 años          No   \n",
       "3    Rural  Sin información  2,009   11  Mayor de 18 años          No   \n",
       "4    Rural  Sin información  2,009   11  Mayor de 18 años          No   \n",
       "\n",
       "  condicion  estado  genero  latitudcabecera  longitudcabecera  \\\n",
       "0     Civil  Hombre  Herido         6.143703        -75.185183   \n",
       "1     Civil  Hombre  Herido         1.494944        -75.463090   \n",
       "2     Civil  Hombre  Muerto         0.502569        -76.498180   \n",
       "3     Civil  Hombre  Herido         7.883545        -75.670508   \n",
       "4     Civil  Hombre  Herido         7.883545        -75.670508   \n",
       "\n",
       "        tipoevento                        Ubicación                 Actividad  \n",
       "0  Sin informacion           (6.143703, -75.185183)    Pasando, estando cerca  \n",
       "1  Sin informacion  (1.49494421255, -75.4630895064)  Erradicador manual - PCI  \n",
       "2  Sin informacion            (0.502569, -76.49818)  Erradicador manual - PCI  \n",
       "3  Sin informacion           (7.883545, -75.670508)  Erradicador manual - PCI  \n",
       "4  Sin informacion           (7.883545, -75.670508)  Erradicador manual - PCI  "
      ]
     },
     "execution_count": 12,
     "metadata": {},
     "output_type": "execute_result"
    }
   ],
   "source": [
    "#Creamos los datos\n",
    "url = 'https://storage.googleapis.com/media-help-ots-geomarketing-odoo/Situaci_n_V_ctimas_Minas_Antipersonal_en_Colombia_20240103.csv'\n",
    "registro_map = pd.read_csv(url)\n",
    "registro_map.head()"
   ]
  },
  {
   "cell_type": "markdown",
   "metadata": {},
   "source": [
    "### **2.2 - Análisis exploratorio de datos.**"
   ]
  },
  {
   "cell_type": "markdown",
   "metadata": {},
   "source": [
    "En las siguientes celdas se explora los diferentes tipos de variables (columnas) del conjunto de datos utilizando *pandas*. "
   ]
  },
  {
   "cell_type": "code",
   "execution_count": 13,
   "metadata": {},
   "outputs": [
    {
     "name": "stdout",
     "output_type": "stream",
     "text": [
      "<class 'pandas.core.frame.DataFrame'>\n",
      "RangeIndex: 12364 entries, 0 to 12363\n",
      "Data columns (total 18 columns):\n",
      " #   Column                  Non-Null Count  Dtype  \n",
      "---  ------                  --------------  -----  \n",
      " 0   departamento            12364 non-null  object \n",
      " 1   codigodanedepartamento  12364 non-null  int64  \n",
      " 2   municipio               12364 non-null  object \n",
      " 3   codigodanemunicipio     12364 non-null  object \n",
      " 4   tipoarea                12364 non-null  object \n",
      " 5   sitio                   12364 non-null  object \n",
      " 6   ano                     12364 non-null  object \n",
      " 7   mes                     12364 non-null  int64  \n",
      " 8   rangoedad               12364 non-null  object \n",
      " 9   grupoetnico             12364 non-null  object \n",
      " 10  condicion               12364 non-null  object \n",
      " 11  estado                  12364 non-null  object \n",
      " 12  genero                  12364 non-null  object \n",
      " 13  latitudcabecera         12364 non-null  float64\n",
      " 14  longitudcabecera        12364 non-null  float64\n",
      " 15  tipoevento              12364 non-null  object \n",
      " 16  Ubicación               12364 non-null  object \n",
      " 17  Actividad               12364 non-null  object \n",
      "dtypes: float64(2), int64(2), object(14)\n",
      "memory usage: 1.7+ MB\n"
     ]
    }
   ],
   "source": [
    "registro_map.info()"
   ]
  },
  {
   "cell_type": "markdown",
   "metadata": {},
   "source": [
    "A continuacion se identifican, que variables tienen **filas con valores faltantes**:"
   ]
  },
  {
   "cell_type": "code",
   "execution_count": 14,
   "metadata": {},
   "outputs": [
    {
     "data": {
      "text/plain": [
       "Index([], dtype='object')"
      ]
     },
     "execution_count": 14,
     "metadata": {},
     "output_type": "execute_result"
    }
   ],
   "source": [
    "valores_faltantes = registro_map.columns[registro_map.isnull().any()]\n",
    "valores_faltantes"
   ]
  },
  {
   "cell_type": "markdown",
   "metadata": {},
   "source": [
    "### **2.3 - Descripciones generales.**"
   ]
  },
  {
   "cell_type": "markdown",
   "metadata": {},
   "source": [
    "Para una exploracion inicial, se imprime en pantalla los primeros y  ultimos diez registros de datos junto con una muestra aleatoria, utilizando las funciones head(), tail() y .sample():"
   ]
  },
  {
   "cell_type": "code",
   "execution_count": 15,
   "metadata": {},
   "outputs": [
    {
     "data": {
      "text/html": [
       "<div>\n",
       "<style scoped>\n",
       "    .dataframe tbody tr th:only-of-type {\n",
       "        vertical-align: middle;\n",
       "    }\n",
       "\n",
       "    .dataframe tbody tr th {\n",
       "        vertical-align: top;\n",
       "    }\n",
       "\n",
       "    .dataframe thead th {\n",
       "        text-align: right;\n",
       "    }\n",
       "</style>\n",
       "<table border=\"1\" class=\"dataframe\">\n",
       "  <thead>\n",
       "    <tr style=\"text-align: right;\">\n",
       "      <th></th>\n",
       "      <th>departamento</th>\n",
       "      <th>codigodanedepartamento</th>\n",
       "      <th>municipio</th>\n",
       "      <th>codigodanemunicipio</th>\n",
       "      <th>tipoarea</th>\n",
       "      <th>sitio</th>\n",
       "      <th>ano</th>\n",
       "      <th>mes</th>\n",
       "      <th>rangoedad</th>\n",
       "      <th>grupoetnico</th>\n",
       "      <th>condicion</th>\n",
       "      <th>estado</th>\n",
       "      <th>genero</th>\n",
       "      <th>latitudcabecera</th>\n",
       "      <th>longitudcabecera</th>\n",
       "      <th>tipoevento</th>\n",
       "      <th>Ubicación</th>\n",
       "      <th>Actividad</th>\n",
       "    </tr>\n",
       "  </thead>\n",
       "  <tbody>\n",
       "    <tr>\n",
       "      <th>0</th>\n",
       "      <td>ANTIOQUIA</td>\n",
       "      <td>5</td>\n",
       "      <td>GRANADA</td>\n",
       "      <td>5,313</td>\n",
       "      <td>Rural</td>\n",
       "      <td>Sin información</td>\n",
       "      <td>2,006</td>\n",
       "      <td>1</td>\n",
       "      <td>Mayor de 18 años</td>\n",
       "      <td>No</td>\n",
       "      <td>Civil</td>\n",
       "      <td>Hombre</td>\n",
       "      <td>Herido</td>\n",
       "      <td>6.143703</td>\n",
       "      <td>-75.185183</td>\n",
       "      <td>Sin informacion</td>\n",
       "      <td>(6.143703, -75.185183)</td>\n",
       "      <td>Pasando, estando cerca</td>\n",
       "    </tr>\n",
       "    <tr>\n",
       "      <th>1</th>\n",
       "      <td>CAQUETA</td>\n",
       "      <td>18</td>\n",
       "      <td>MONTAÑITA</td>\n",
       "      <td>18,410</td>\n",
       "      <td>Rural</td>\n",
       "      <td>Sin información</td>\n",
       "      <td>2,009</td>\n",
       "      <td>12</td>\n",
       "      <td>Mayor de 18 años</td>\n",
       "      <td>No</td>\n",
       "      <td>Civil</td>\n",
       "      <td>Hombre</td>\n",
       "      <td>Herido</td>\n",
       "      <td>1.494944</td>\n",
       "      <td>-75.463090</td>\n",
       "      <td>Sin informacion</td>\n",
       "      <td>(1.49494421255, -75.4630895064)</td>\n",
       "      <td>Erradicador manual - PCI</td>\n",
       "    </tr>\n",
       "    <tr>\n",
       "      <th>2</th>\n",
       "      <td>PUTUMAYO</td>\n",
       "      <td>86</td>\n",
       "      <td>PUERTO ASÍS</td>\n",
       "      <td>86,568</td>\n",
       "      <td>Rural</td>\n",
       "      <td>Sin información</td>\n",
       "      <td>2,008</td>\n",
       "      <td>4</td>\n",
       "      <td>Mayor de 18 años</td>\n",
       "      <td>No</td>\n",
       "      <td>Civil</td>\n",
       "      <td>Hombre</td>\n",
       "      <td>Muerto</td>\n",
       "      <td>0.502569</td>\n",
       "      <td>-76.498180</td>\n",
       "      <td>Sin informacion</td>\n",
       "      <td>(0.502569, -76.49818)</td>\n",
       "      <td>Erradicador manual - PCI</td>\n",
       "    </tr>\n",
       "    <tr>\n",
       "      <th>3</th>\n",
       "      <td>CORDOBA</td>\n",
       "      <td>23</td>\n",
       "      <td>PUERTO LIBERTADOR</td>\n",
       "      <td>23,580</td>\n",
       "      <td>Rural</td>\n",
       "      <td>Sin información</td>\n",
       "      <td>2,009</td>\n",
       "      <td>11</td>\n",
       "      <td>Mayor de 18 años</td>\n",
       "      <td>No</td>\n",
       "      <td>Civil</td>\n",
       "      <td>Hombre</td>\n",
       "      <td>Herido</td>\n",
       "      <td>7.883545</td>\n",
       "      <td>-75.670508</td>\n",
       "      <td>Sin informacion</td>\n",
       "      <td>(7.883545, -75.670508)</td>\n",
       "      <td>Erradicador manual - PCI</td>\n",
       "    </tr>\n",
       "    <tr>\n",
       "      <th>4</th>\n",
       "      <td>CORDOBA</td>\n",
       "      <td>23</td>\n",
       "      <td>PUERTO LIBERTADOR</td>\n",
       "      <td>23,580</td>\n",
       "      <td>Rural</td>\n",
       "      <td>Sin información</td>\n",
       "      <td>2,009</td>\n",
       "      <td>11</td>\n",
       "      <td>Mayor de 18 años</td>\n",
       "      <td>No</td>\n",
       "      <td>Civil</td>\n",
       "      <td>Hombre</td>\n",
       "      <td>Herido</td>\n",
       "      <td>7.883545</td>\n",
       "      <td>-75.670508</td>\n",
       "      <td>Sin informacion</td>\n",
       "      <td>(7.883545, -75.670508)</td>\n",
       "      <td>Erradicador manual - PCI</td>\n",
       "    </tr>\n",
       "    <tr>\n",
       "      <th>5</th>\n",
       "      <td>CORDOBA</td>\n",
       "      <td>23</td>\n",
       "      <td>PUERTO LIBERTADOR</td>\n",
       "      <td>23,580</td>\n",
       "      <td>Rural</td>\n",
       "      <td>Sin información</td>\n",
       "      <td>2,009</td>\n",
       "      <td>11</td>\n",
       "      <td>Mayor de 18 años</td>\n",
       "      <td>No</td>\n",
       "      <td>Civil</td>\n",
       "      <td>Hombre</td>\n",
       "      <td>Herido</td>\n",
       "      <td>7.883545</td>\n",
       "      <td>-75.670508</td>\n",
       "      <td>Sin informacion</td>\n",
       "      <td>(7.883545, -75.670508)</td>\n",
       "      <td>Erradicador manual - PCI</td>\n",
       "    </tr>\n",
       "    <tr>\n",
       "      <th>6</th>\n",
       "      <td>CORDOBA</td>\n",
       "      <td>23</td>\n",
       "      <td>PUERTO LIBERTADOR</td>\n",
       "      <td>23,580</td>\n",
       "      <td>Rural</td>\n",
       "      <td>Sin información</td>\n",
       "      <td>2,009</td>\n",
       "      <td>11</td>\n",
       "      <td>Mayor de 18 años</td>\n",
       "      <td>No</td>\n",
       "      <td>Civil</td>\n",
       "      <td>Hombre</td>\n",
       "      <td>Herido</td>\n",
       "      <td>7.883545</td>\n",
       "      <td>-75.670508</td>\n",
       "      <td>Sin informacion</td>\n",
       "      <td>(7.883545, -75.670508)</td>\n",
       "      <td>Erradicador manual - PCI</td>\n",
       "    </tr>\n",
       "    <tr>\n",
       "      <th>7</th>\n",
       "      <td>NARIÑO</td>\n",
       "      <td>52</td>\n",
       "      <td>BARBACOAS</td>\n",
       "      <td>52,079</td>\n",
       "      <td>Rural</td>\n",
       "      <td>Vereda Santa Lucia</td>\n",
       "      <td>2,010</td>\n",
       "      <td>1</td>\n",
       "      <td>Mayor de 18 años</td>\n",
       "      <td>No</td>\n",
       "      <td>Fuerza pública</td>\n",
       "      <td>Hombre</td>\n",
       "      <td>Herido</td>\n",
       "      <td>1.587500</td>\n",
       "      <td>-78.227500</td>\n",
       "      <td>Sin informacion</td>\n",
       "      <td>(1.5875, -78.2275)</td>\n",
       "      <td>Fuerza pública</td>\n",
       "    </tr>\n",
       "    <tr>\n",
       "      <th>8</th>\n",
       "      <td>ANTIOQUIA</td>\n",
       "      <td>5</td>\n",
       "      <td>TARAZÁ</td>\n",
       "      <td>5,790</td>\n",
       "      <td>Rural</td>\n",
       "      <td>Quebrada Iraca</td>\n",
       "      <td>2,010</td>\n",
       "      <td>1</td>\n",
       "      <td>Mayor de 18 años</td>\n",
       "      <td>No</td>\n",
       "      <td>Fuerza pública</td>\n",
       "      <td>Hombre</td>\n",
       "      <td>Herido</td>\n",
       "      <td>7.372778</td>\n",
       "      <td>-75.204444</td>\n",
       "      <td>Sin informacion</td>\n",
       "      <td>(7.372777777777777, -75.20444444444445)</td>\n",
       "      <td>Fuerza pública</td>\n",
       "    </tr>\n",
       "    <tr>\n",
       "      <th>9</th>\n",
       "      <td>ANTIOQUIA</td>\n",
       "      <td>5</td>\n",
       "      <td>VALDIVIA</td>\n",
       "      <td>5,854</td>\n",
       "      <td>Rural</td>\n",
       "      <td>Sin información</td>\n",
       "      <td>2,008</td>\n",
       "      <td>3</td>\n",
       "      <td>Mayor de 18 años</td>\n",
       "      <td>No</td>\n",
       "      <td>Civil</td>\n",
       "      <td>Hombre</td>\n",
       "      <td>Herido</td>\n",
       "      <td>7.165222</td>\n",
       "      <td>-75.438081</td>\n",
       "      <td>Sin informacion</td>\n",
       "      <td>(7.165222, -75.438081)</td>\n",
       "      <td>Erradicador manual - PCI</td>\n",
       "    </tr>\n",
       "  </tbody>\n",
       "</table>\n",
       "</div>"
      ],
      "text/plain": [
       "  departamento  codigodanedepartamento          municipio codigodanemunicipio  \\\n",
       "0    ANTIOQUIA                       5            GRANADA               5,313   \n",
       "1      CAQUETA                      18          MONTAÑITA              18,410   \n",
       "2     PUTUMAYO                      86        PUERTO ASÍS              86,568   \n",
       "3      CORDOBA                      23  PUERTO LIBERTADOR              23,580   \n",
       "4      CORDOBA                      23  PUERTO LIBERTADOR              23,580   \n",
       "5      CORDOBA                      23  PUERTO LIBERTADOR              23,580   \n",
       "6      CORDOBA                      23  PUERTO LIBERTADOR              23,580   \n",
       "7       NARIÑO                      52          BARBACOAS              52,079   \n",
       "8    ANTIOQUIA                       5             TARAZÁ               5,790   \n",
       "9    ANTIOQUIA                       5           VALDIVIA               5,854   \n",
       "\n",
       "  tipoarea               sitio    ano  mes         rangoedad grupoetnico  \\\n",
       "0    Rural     Sin información  2,006    1  Mayor de 18 años          No   \n",
       "1    Rural     Sin información  2,009   12  Mayor de 18 años          No   \n",
       "2    Rural     Sin información  2,008    4  Mayor de 18 años          No   \n",
       "3    Rural     Sin información  2,009   11  Mayor de 18 años          No   \n",
       "4    Rural     Sin información  2,009   11  Mayor de 18 años          No   \n",
       "5    Rural     Sin información  2,009   11  Mayor de 18 años          No   \n",
       "6    Rural     Sin información  2,009   11  Mayor de 18 años          No   \n",
       "7    Rural  Vereda Santa Lucia  2,010    1  Mayor de 18 años          No   \n",
       "8    Rural      Quebrada Iraca  2,010    1  Mayor de 18 años          No   \n",
       "9    Rural     Sin información  2,008    3  Mayor de 18 años          No   \n",
       "\n",
       "        condicion  estado  genero  latitudcabecera  longitudcabecera  \\\n",
       "0           Civil  Hombre  Herido         6.143703        -75.185183   \n",
       "1           Civil  Hombre  Herido         1.494944        -75.463090   \n",
       "2           Civil  Hombre  Muerto         0.502569        -76.498180   \n",
       "3           Civil  Hombre  Herido         7.883545        -75.670508   \n",
       "4           Civil  Hombre  Herido         7.883545        -75.670508   \n",
       "5           Civil  Hombre  Herido         7.883545        -75.670508   \n",
       "6           Civil  Hombre  Herido         7.883545        -75.670508   \n",
       "7  Fuerza pública  Hombre  Herido         1.587500        -78.227500   \n",
       "8  Fuerza pública  Hombre  Herido         7.372778        -75.204444   \n",
       "9           Civil  Hombre  Herido         7.165222        -75.438081   \n",
       "\n",
       "        tipoevento                                Ubicación  \\\n",
       "0  Sin informacion                   (6.143703, -75.185183)   \n",
       "1  Sin informacion          (1.49494421255, -75.4630895064)   \n",
       "2  Sin informacion                    (0.502569, -76.49818)   \n",
       "3  Sin informacion                   (7.883545, -75.670508)   \n",
       "4  Sin informacion                   (7.883545, -75.670508)   \n",
       "5  Sin informacion                   (7.883545, -75.670508)   \n",
       "6  Sin informacion                   (7.883545, -75.670508)   \n",
       "7  Sin informacion                       (1.5875, -78.2275)   \n",
       "8  Sin informacion  (7.372777777777777, -75.20444444444445)   \n",
       "9  Sin informacion                   (7.165222, -75.438081)   \n",
       "\n",
       "                  Actividad  \n",
       "0    Pasando, estando cerca  \n",
       "1  Erradicador manual - PCI  \n",
       "2  Erradicador manual - PCI  \n",
       "3  Erradicador manual - PCI  \n",
       "4  Erradicador manual - PCI  \n",
       "5  Erradicador manual - PCI  \n",
       "6  Erradicador manual - PCI  \n",
       "7            Fuerza pública  \n",
       "8            Fuerza pública  \n",
       "9  Erradicador manual - PCI  "
      ]
     },
     "execution_count": 15,
     "metadata": {},
     "output_type": "execute_result"
    }
   ],
   "source": [
    "registro_map.head(10)"
   ]
  },
  {
   "cell_type": "code",
   "execution_count": 16,
   "metadata": {},
   "outputs": [
    {
     "data": {
      "text/html": [
       "<div>\n",
       "<style scoped>\n",
       "    .dataframe tbody tr th:only-of-type {\n",
       "        vertical-align: middle;\n",
       "    }\n",
       "\n",
       "    .dataframe tbody tr th {\n",
       "        vertical-align: top;\n",
       "    }\n",
       "\n",
       "    .dataframe thead th {\n",
       "        text-align: right;\n",
       "    }\n",
       "</style>\n",
       "<table border=\"1\" class=\"dataframe\">\n",
       "  <thead>\n",
       "    <tr style=\"text-align: right;\">\n",
       "      <th></th>\n",
       "      <th>departamento</th>\n",
       "      <th>codigodanedepartamento</th>\n",
       "      <th>municipio</th>\n",
       "      <th>codigodanemunicipio</th>\n",
       "      <th>tipoarea</th>\n",
       "      <th>sitio</th>\n",
       "      <th>ano</th>\n",
       "      <th>mes</th>\n",
       "      <th>rangoedad</th>\n",
       "      <th>grupoetnico</th>\n",
       "      <th>condicion</th>\n",
       "      <th>estado</th>\n",
       "      <th>genero</th>\n",
       "      <th>latitudcabecera</th>\n",
       "      <th>longitudcabecera</th>\n",
       "      <th>tipoevento</th>\n",
       "      <th>Ubicación</th>\n",
       "      <th>Actividad</th>\n",
       "    </tr>\n",
       "  </thead>\n",
       "  <tbody>\n",
       "    <tr>\n",
       "      <th>12354</th>\n",
       "      <td>NARIÑO</td>\n",
       "      <td>52</td>\n",
       "      <td>OLAYA HERRERA</td>\n",
       "      <td>52,490</td>\n",
       "      <td>Rural</td>\n",
       "      <td>VEREDA SAN JOSE LOS ROBLES</td>\n",
       "      <td>2,023</td>\n",
       "      <td>6</td>\n",
       "      <td>Menor de 18 años</td>\n",
       "      <td>No</td>\n",
       "      <td>Civil</td>\n",
       "      <td>Mujer</td>\n",
       "      <td>Herido</td>\n",
       "      <td>2.314415</td>\n",
       "      <td>-78.334345</td>\n",
       "      <td>Campo</td>\n",
       "      <td>(2.31441546587, -78.3343454855)</td>\n",
       "      <td>Agricultura</td>\n",
       "    </tr>\n",
       "    <tr>\n",
       "      <th>12355</th>\n",
       "      <td>NORTE DE SANTANDER</td>\n",
       "      <td>54</td>\n",
       "      <td>EL TARRA</td>\n",
       "      <td>54,250</td>\n",
       "      <td>Rural</td>\n",
       "      <td>Vereda El Porvenir</td>\n",
       "      <td>2,023</td>\n",
       "      <td>6</td>\n",
       "      <td>Mayor de 18 años</td>\n",
       "      <td>No</td>\n",
       "      <td>Fuerza pública</td>\n",
       "      <td>Hombre</td>\n",
       "      <td>Herido</td>\n",
       "      <td>8.658333</td>\n",
       "      <td>-73.146944</td>\n",
       "      <td>Sin informacion</td>\n",
       "      <td>(8.65833333333333, -73.1469444444444)</td>\n",
       "      <td>Actividades fuerza pública</td>\n",
       "    </tr>\n",
       "    <tr>\n",
       "      <th>12356</th>\n",
       "      <td>NARIÑO</td>\n",
       "      <td>52</td>\n",
       "      <td>IPIALES</td>\n",
       "      <td>52,356</td>\n",
       "      <td>Rural</td>\n",
       "      <td>VEREDA EL ASUAY</td>\n",
       "      <td>2,023</td>\n",
       "      <td>6</td>\n",
       "      <td>Mayor de 18 años</td>\n",
       "      <td>No</td>\n",
       "      <td>Civil</td>\n",
       "      <td>Hombre</td>\n",
       "      <td>Herido</td>\n",
       "      <td>0.829810</td>\n",
       "      <td>-77.629760</td>\n",
       "      <td>Campo</td>\n",
       "      <td>(0.82981043391, -77.6297604828)</td>\n",
       "      <td>Agricultura</td>\n",
       "    </tr>\n",
       "    <tr>\n",
       "      <th>12357</th>\n",
       "      <td>NARIÑO</td>\n",
       "      <td>52</td>\n",
       "      <td>RICAURTE</td>\n",
       "      <td>52,612</td>\n",
       "      <td>Rural</td>\n",
       "      <td>RESGUARDO DE VEGAS CHAGÜI - CHIMBUZA</td>\n",
       "      <td>2,023</td>\n",
       "      <td>6</td>\n",
       "      <td>Mayor de 18 años</td>\n",
       "      <td>Indigena</td>\n",
       "      <td>Civil</td>\n",
       "      <td>Mujer</td>\n",
       "      <td>Herido</td>\n",
       "      <td>1.190763</td>\n",
       "      <td>-78.117007</td>\n",
       "      <td>Caminos</td>\n",
       "      <td>(1.19076305555556, -78.1170069444444)</td>\n",
       "      <td>Sin Información</td>\n",
       "    </tr>\n",
       "    <tr>\n",
       "      <th>12358</th>\n",
       "      <td>NARIÑO</td>\n",
       "      <td>52</td>\n",
       "      <td>RICAURTE</td>\n",
       "      <td>52,612</td>\n",
       "      <td>Rural</td>\n",
       "      <td>RESGUARDO DE VEGAS CHAGÜI - CHIMBUZA</td>\n",
       "      <td>2,023</td>\n",
       "      <td>6</td>\n",
       "      <td>Mayor de 18 años</td>\n",
       "      <td>Indigena</td>\n",
       "      <td>Civil</td>\n",
       "      <td>Hombre</td>\n",
       "      <td>Herido</td>\n",
       "      <td>1.190763</td>\n",
       "      <td>-78.117007</td>\n",
       "      <td>Caminos</td>\n",
       "      <td>(1.19076305555556, -78.1170069444444)</td>\n",
       "      <td>Sin Información</td>\n",
       "    </tr>\n",
       "    <tr>\n",
       "      <th>12359</th>\n",
       "      <td>NARIÑO</td>\n",
       "      <td>52</td>\n",
       "      <td>RICAURTE</td>\n",
       "      <td>52,612</td>\n",
       "      <td>Rural</td>\n",
       "      <td>RESGUARDO DE VEGAS CHAGÜI - CHIMBUZA</td>\n",
       "      <td>2,023</td>\n",
       "      <td>6</td>\n",
       "      <td>Mayor de 18 años</td>\n",
       "      <td>Indigena</td>\n",
       "      <td>Civil</td>\n",
       "      <td>Mujer</td>\n",
       "      <td>Herido</td>\n",
       "      <td>1.190763</td>\n",
       "      <td>-78.117007</td>\n",
       "      <td>Caminos</td>\n",
       "      <td>(1.19076305555556, -78.1170069444444)</td>\n",
       "      <td>Sin Información</td>\n",
       "    </tr>\n",
       "    <tr>\n",
       "      <th>12360</th>\n",
       "      <td>NARIÑO</td>\n",
       "      <td>52</td>\n",
       "      <td>RICAURTE</td>\n",
       "      <td>52,612</td>\n",
       "      <td>Rural</td>\n",
       "      <td>RESGUARDO DE VEGAS CHAGÜI - CHIMBUZA</td>\n",
       "      <td>2,023</td>\n",
       "      <td>6</td>\n",
       "      <td>Mayor de 18 años</td>\n",
       "      <td>Indigena</td>\n",
       "      <td>Civil</td>\n",
       "      <td>Mujer</td>\n",
       "      <td>Herido</td>\n",
       "      <td>1.190763</td>\n",
       "      <td>-78.117007</td>\n",
       "      <td>Caminos</td>\n",
       "      <td>(1.19076305555556, -78.1170069444444)</td>\n",
       "      <td>Sin Información</td>\n",
       "    </tr>\n",
       "    <tr>\n",
       "      <th>12361</th>\n",
       "      <td>NARIÑO</td>\n",
       "      <td>52</td>\n",
       "      <td>RICAURTE</td>\n",
       "      <td>52,612</td>\n",
       "      <td>Rural</td>\n",
       "      <td>RESGUARDO DE VEGAS CHAGÜI - CHIMBUZA</td>\n",
       "      <td>2,023</td>\n",
       "      <td>6</td>\n",
       "      <td>Mayor de 18 años</td>\n",
       "      <td>Indigena</td>\n",
       "      <td>Civil</td>\n",
       "      <td>Hombre</td>\n",
       "      <td>Herido</td>\n",
       "      <td>1.190763</td>\n",
       "      <td>-78.117007</td>\n",
       "      <td>Caminos</td>\n",
       "      <td>(1.19076305555556, -78.1170069444444)</td>\n",
       "      <td>Sin Información</td>\n",
       "    </tr>\n",
       "    <tr>\n",
       "      <th>12362</th>\n",
       "      <td>NARIÑO</td>\n",
       "      <td>52</td>\n",
       "      <td>RICAURTE</td>\n",
       "      <td>52,612</td>\n",
       "      <td>Rural</td>\n",
       "      <td>RESGUARDO DE VEGAS CHAGÜI - CHIMBUZA</td>\n",
       "      <td>2,023</td>\n",
       "      <td>6</td>\n",
       "      <td>Mayor de 18 años</td>\n",
       "      <td>Indigena</td>\n",
       "      <td>Civil</td>\n",
       "      <td>Hombre</td>\n",
       "      <td>Herido</td>\n",
       "      <td>1.190763</td>\n",
       "      <td>-78.117007</td>\n",
       "      <td>Caminos</td>\n",
       "      <td>(1.19076305555556, -78.1170069444444)</td>\n",
       "      <td>Sin Información</td>\n",
       "    </tr>\n",
       "    <tr>\n",
       "      <th>12363</th>\n",
       "      <td>NARIÑO</td>\n",
       "      <td>52</td>\n",
       "      <td>RICAURTE</td>\n",
       "      <td>52,612</td>\n",
       "      <td>Rural</td>\n",
       "      <td>RESGUARDO DE VEGAS CHAGÜI - CHIMBUZA</td>\n",
       "      <td>2,023</td>\n",
       "      <td>6</td>\n",
       "      <td>Mayor de 18 años</td>\n",
       "      <td>Indigena</td>\n",
       "      <td>Civil</td>\n",
       "      <td>Hombre</td>\n",
       "      <td>Muerto</td>\n",
       "      <td>1.190763</td>\n",
       "      <td>-78.117007</td>\n",
       "      <td>Caminos</td>\n",
       "      <td>(1.19076305555556, -78.1170069444444)</td>\n",
       "      <td>Sin Información</td>\n",
       "    </tr>\n",
       "  </tbody>\n",
       "</table>\n",
       "</div>"
      ],
      "text/plain": [
       "             departamento  codigodanedepartamento      municipio  \\\n",
       "12354              NARIÑO                      52  OLAYA HERRERA   \n",
       "12355  NORTE DE SANTANDER                      54       EL TARRA   \n",
       "12356              NARIÑO                      52        IPIALES   \n",
       "12357              NARIÑO                      52       RICAURTE   \n",
       "12358              NARIÑO                      52       RICAURTE   \n",
       "12359              NARIÑO                      52       RICAURTE   \n",
       "12360              NARIÑO                      52       RICAURTE   \n",
       "12361              NARIÑO                      52       RICAURTE   \n",
       "12362              NARIÑO                      52       RICAURTE   \n",
       "12363              NARIÑO                      52       RICAURTE   \n",
       "\n",
       "      codigodanemunicipio tipoarea                                 sitio  \\\n",
       "12354              52,490    Rural            VEREDA SAN JOSE LOS ROBLES   \n",
       "12355              54,250    Rural                    Vereda El Porvenir   \n",
       "12356              52,356    Rural                       VEREDA EL ASUAY   \n",
       "12357              52,612    Rural  RESGUARDO DE VEGAS CHAGÜI - CHIMBUZA   \n",
       "12358              52,612    Rural  RESGUARDO DE VEGAS CHAGÜI - CHIMBUZA   \n",
       "12359              52,612    Rural  RESGUARDO DE VEGAS CHAGÜI - CHIMBUZA   \n",
       "12360              52,612    Rural  RESGUARDO DE VEGAS CHAGÜI - CHIMBUZA   \n",
       "12361              52,612    Rural  RESGUARDO DE VEGAS CHAGÜI - CHIMBUZA   \n",
       "12362              52,612    Rural  RESGUARDO DE VEGAS CHAGÜI - CHIMBUZA   \n",
       "12363              52,612    Rural  RESGUARDO DE VEGAS CHAGÜI - CHIMBUZA   \n",
       "\n",
       "         ano  mes         rangoedad grupoetnico       condicion  estado  \\\n",
       "12354  2,023    6  Menor de 18 años          No           Civil   Mujer   \n",
       "12355  2,023    6  Mayor de 18 años          No  Fuerza pública  Hombre   \n",
       "12356  2,023    6  Mayor de 18 años          No           Civil  Hombre   \n",
       "12357  2,023    6  Mayor de 18 años    Indigena           Civil   Mujer   \n",
       "12358  2,023    6  Mayor de 18 años    Indigena           Civil  Hombre   \n",
       "12359  2,023    6  Mayor de 18 años    Indigena           Civil   Mujer   \n",
       "12360  2,023    6  Mayor de 18 años    Indigena           Civil   Mujer   \n",
       "12361  2,023    6  Mayor de 18 años    Indigena           Civil  Hombre   \n",
       "12362  2,023    6  Mayor de 18 años    Indigena           Civil  Hombre   \n",
       "12363  2,023    6  Mayor de 18 años    Indigena           Civil  Hombre   \n",
       "\n",
       "       genero  latitudcabecera  longitudcabecera       tipoevento  \\\n",
       "12354  Herido         2.314415        -78.334345            Campo   \n",
       "12355  Herido         8.658333        -73.146944  Sin informacion   \n",
       "12356  Herido         0.829810        -77.629760            Campo   \n",
       "12357  Herido         1.190763        -78.117007          Caminos   \n",
       "12358  Herido         1.190763        -78.117007          Caminos   \n",
       "12359  Herido         1.190763        -78.117007          Caminos   \n",
       "12360  Herido         1.190763        -78.117007          Caminos   \n",
       "12361  Herido         1.190763        -78.117007          Caminos   \n",
       "12362  Herido         1.190763        -78.117007          Caminos   \n",
       "12363  Muerto         1.190763        -78.117007          Caminos   \n",
       "\n",
       "                                   Ubicación                   Actividad  \n",
       "12354        (2.31441546587, -78.3343454855)                 Agricultura  \n",
       "12355  (8.65833333333333, -73.1469444444444)  Actividades fuerza pública  \n",
       "12356        (0.82981043391, -77.6297604828)                 Agricultura  \n",
       "12357  (1.19076305555556, -78.1170069444444)             Sin Información  \n",
       "12358  (1.19076305555556, -78.1170069444444)             Sin Información  \n",
       "12359  (1.19076305555556, -78.1170069444444)             Sin Información  \n",
       "12360  (1.19076305555556, -78.1170069444444)             Sin Información  \n",
       "12361  (1.19076305555556, -78.1170069444444)             Sin Información  \n",
       "12362  (1.19076305555556, -78.1170069444444)             Sin Información  \n",
       "12363  (1.19076305555556, -78.1170069444444)             Sin Información  "
      ]
     },
     "execution_count": 16,
     "metadata": {},
     "output_type": "execute_result"
    }
   ],
   "source": [
    "registro_map.tail(10)"
   ]
  },
  {
   "cell_type": "code",
   "execution_count": 17,
   "metadata": {},
   "outputs": [
    {
     "data": {
      "text/html": [
       "<div>\n",
       "<style scoped>\n",
       "    .dataframe tbody tr th:only-of-type {\n",
       "        vertical-align: middle;\n",
       "    }\n",
       "\n",
       "    .dataframe tbody tr th {\n",
       "        vertical-align: top;\n",
       "    }\n",
       "\n",
       "    .dataframe thead th {\n",
       "        text-align: right;\n",
       "    }\n",
       "</style>\n",
       "<table border=\"1\" class=\"dataframe\">\n",
       "  <thead>\n",
       "    <tr style=\"text-align: right;\">\n",
       "      <th></th>\n",
       "      <th>departamento</th>\n",
       "      <th>codigodanedepartamento</th>\n",
       "      <th>municipio</th>\n",
       "      <th>codigodanemunicipio</th>\n",
       "      <th>tipoarea</th>\n",
       "      <th>sitio</th>\n",
       "      <th>ano</th>\n",
       "      <th>mes</th>\n",
       "      <th>rangoedad</th>\n",
       "      <th>grupoetnico</th>\n",
       "      <th>condicion</th>\n",
       "      <th>estado</th>\n",
       "      <th>genero</th>\n",
       "      <th>latitudcabecera</th>\n",
       "      <th>longitudcabecera</th>\n",
       "      <th>tipoevento</th>\n",
       "      <th>Ubicación</th>\n",
       "      <th>Actividad</th>\n",
       "    </tr>\n",
       "  </thead>\n",
       "  <tbody>\n",
       "    <tr>\n",
       "      <th>3377</th>\n",
       "      <td>ANTIOQUIA</td>\n",
       "      <td>5</td>\n",
       "      <td>ITUANGO</td>\n",
       "      <td>5,361</td>\n",
       "      <td>Rural</td>\n",
       "      <td>Vereda El Olivar</td>\n",
       "      <td>2,005</td>\n",
       "      <td>9</td>\n",
       "      <td>Mayor de 18 años</td>\n",
       "      <td>No</td>\n",
       "      <td>Fuerza pública</td>\n",
       "      <td>Hombre</td>\n",
       "      <td>Herido</td>\n",
       "      <td>7.231944</td>\n",
       "      <td>-75.864167</td>\n",
       "      <td>Sin informacion</td>\n",
       "      <td>(7.231944, -75.864167)</td>\n",
       "      <td>Fuerza pública</td>\n",
       "    </tr>\n",
       "    <tr>\n",
       "      <th>2422</th>\n",
       "      <td>TOLIMA</td>\n",
       "      <td>73</td>\n",
       "      <td>RIOBLANCO</td>\n",
       "      <td>73,616</td>\n",
       "      <td>Rural</td>\n",
       "      <td>Vereda La Catalina, Finca Los Guayabos</td>\n",
       "      <td>2,007</td>\n",
       "      <td>1</td>\n",
       "      <td>Menor de 18 años</td>\n",
       "      <td>No</td>\n",
       "      <td>Civil</td>\n",
       "      <td>Hombre</td>\n",
       "      <td>Muerto</td>\n",
       "      <td>3.529701</td>\n",
       "      <td>-75.644823</td>\n",
       "      <td>Sin informacion</td>\n",
       "      <td>(3.529701, -75.644823)</td>\n",
       "      <td>Pasando, estando cerca</td>\n",
       "    </tr>\n",
       "    <tr>\n",
       "      <th>1535</th>\n",
       "      <td>ARAUCA</td>\n",
       "      <td>81</td>\n",
       "      <td>ARAUQUITA</td>\n",
       "      <td>81,065</td>\n",
       "      <td>Rural</td>\n",
       "      <td>Sur Filipinas</td>\n",
       "      <td>2,009</td>\n",
       "      <td>1</td>\n",
       "      <td>Mayor de 18 años</td>\n",
       "      <td>No</td>\n",
       "      <td>Fuerza pública</td>\n",
       "      <td>Hombre</td>\n",
       "      <td>Herido</td>\n",
       "      <td>6.646667</td>\n",
       "      <td>-71.216944</td>\n",
       "      <td>Sin informacion</td>\n",
       "      <td>(6.6466666666666665, -71.21694444444445)</td>\n",
       "      <td>Fuerza pública</td>\n",
       "    </tr>\n",
       "    <tr>\n",
       "      <th>7514</th>\n",
       "      <td>ANTIOQUIA</td>\n",
       "      <td>5</td>\n",
       "      <td>ZARAGOZA</td>\n",
       "      <td>5,895</td>\n",
       "      <td>Rural</td>\n",
       "      <td>Sin información</td>\n",
       "      <td>2,001</td>\n",
       "      <td>4</td>\n",
       "      <td>Menor de 18 años</td>\n",
       "      <td>No</td>\n",
       "      <td>Civil</td>\n",
       "      <td>Mujer</td>\n",
       "      <td>Herido</td>\n",
       "      <td>7.490632</td>\n",
       "      <td>-74.867778</td>\n",
       "      <td>Sin informacion</td>\n",
       "      <td>(7.490632, -74.867778)</td>\n",
       "      <td>Pasando, estando cerca</td>\n",
       "    </tr>\n",
       "    <tr>\n",
       "      <th>12156</th>\n",
       "      <td>CAUCA</td>\n",
       "      <td>19</td>\n",
       "      <td>EL TAMBO</td>\n",
       "      <td>19,256</td>\n",
       "      <td>Rural</td>\n",
       "      <td>CORREGIMIENTO HUISITÓ</td>\n",
       "      <td>2,022</td>\n",
       "      <td>2</td>\n",
       "      <td>Mayor de 18 años</td>\n",
       "      <td>No</td>\n",
       "      <td>Civil</td>\n",
       "      <td>Hombre</td>\n",
       "      <td>Herido</td>\n",
       "      <td>2.450573</td>\n",
       "      <td>-76.805205</td>\n",
       "      <td>Sin informacion</td>\n",
       "      <td>(2.45057270515, -76.8052045915)</td>\n",
       "      <td>Sin Información</td>\n",
       "    </tr>\n",
       "    <tr>\n",
       "      <th>8953</th>\n",
       "      <td>PUTUMAYO</td>\n",
       "      <td>86</td>\n",
       "      <td>PUERTO ASÍS</td>\n",
       "      <td>86,568</td>\n",
       "      <td>Rural</td>\n",
       "      <td>Sin información</td>\n",
       "      <td>2,011</td>\n",
       "      <td>8</td>\n",
       "      <td>Mayor de 18 años</td>\n",
       "      <td>No</td>\n",
       "      <td>Fuerza pública</td>\n",
       "      <td>Hombre</td>\n",
       "      <td>Muerto</td>\n",
       "      <td>0.285278</td>\n",
       "      <td>-76.540833</td>\n",
       "      <td>Sin informacion</td>\n",
       "      <td>(0.2852777778, -76.5408333333)</td>\n",
       "      <td>Fuerza pública</td>\n",
       "    </tr>\n",
       "    <tr>\n",
       "      <th>8116</th>\n",
       "      <td>NORTE DE SANTANDER</td>\n",
       "      <td>54</td>\n",
       "      <td>TEORAMA</td>\n",
       "      <td>54,800</td>\n",
       "      <td>Rural</td>\n",
       "      <td>Sin información</td>\n",
       "      <td>2,007</td>\n",
       "      <td>9</td>\n",
       "      <td>Mayor de 18 años</td>\n",
       "      <td>No</td>\n",
       "      <td>Fuerza pública</td>\n",
       "      <td>Hombre</td>\n",
       "      <td>Herido</td>\n",
       "      <td>8.441389</td>\n",
       "      <td>-73.268611</td>\n",
       "      <td>Sin informacion</td>\n",
       "      <td>(8.441389, -73.268611)</td>\n",
       "      <td>Fuerza pública</td>\n",
       "    </tr>\n",
       "    <tr>\n",
       "      <th>7163</th>\n",
       "      <td>META</td>\n",
       "      <td>50</td>\n",
       "      <td>VISTAHERMOSA</td>\n",
       "      <td>50,711</td>\n",
       "      <td>Rural</td>\n",
       "      <td>Vereda La Reforma Sur</td>\n",
       "      <td>2,008</td>\n",
       "      <td>5</td>\n",
       "      <td>Mayor de 18 años</td>\n",
       "      <td>No</td>\n",
       "      <td>Fuerza pública</td>\n",
       "      <td>Hombre</td>\n",
       "      <td>Herido</td>\n",
       "      <td>3.125088</td>\n",
       "      <td>-73.752373</td>\n",
       "      <td>Sin informacion</td>\n",
       "      <td>(3.125088, -73.752373)</td>\n",
       "      <td>Fuerza pública</td>\n",
       "    </tr>\n",
       "    <tr>\n",
       "      <th>10888</th>\n",
       "      <td>CAUCA</td>\n",
       "      <td>19</td>\n",
       "      <td>EL TAMBO</td>\n",
       "      <td>19,256</td>\n",
       "      <td>Rural</td>\n",
       "      <td>Huisito Santa Rita</td>\n",
       "      <td>2,010</td>\n",
       "      <td>6</td>\n",
       "      <td>Mayor de 18 años</td>\n",
       "      <td>No</td>\n",
       "      <td>Fuerza pública</td>\n",
       "      <td>Hombre</td>\n",
       "      <td>Herido</td>\n",
       "      <td>2.604722</td>\n",
       "      <td>-77.012500</td>\n",
       "      <td>Sin informacion</td>\n",
       "      <td>(2.60472222222222, -77.0125)</td>\n",
       "      <td>Fuerza pública</td>\n",
       "    </tr>\n",
       "    <tr>\n",
       "      <th>11586</th>\n",
       "      <td>NORTE DE SANTANDER</td>\n",
       "      <td>54</td>\n",
       "      <td>SAN CALIXTO</td>\n",
       "      <td>54,670</td>\n",
       "      <td>Rural</td>\n",
       "      <td>VEREDA LA LAGUNA</td>\n",
       "      <td>2,018</td>\n",
       "      <td>8</td>\n",
       "      <td>Menor de 18 años</td>\n",
       "      <td>No</td>\n",
       "      <td>Civil</td>\n",
       "      <td>Hombre</td>\n",
       "      <td>Herido</td>\n",
       "      <td>8.404078</td>\n",
       "      <td>-73.208168</td>\n",
       "      <td>Caminos</td>\n",
       "      <td>(8.40407771429, -73.208167626)</td>\n",
       "      <td>Recogiendo comida, agua ó  madera</td>\n",
       "    </tr>\n",
       "  </tbody>\n",
       "</table>\n",
       "</div>"
      ],
      "text/plain": [
       "             departamento  codigodanedepartamento     municipio  \\\n",
       "3377            ANTIOQUIA                       5       ITUANGO   \n",
       "2422               TOLIMA                      73     RIOBLANCO   \n",
       "1535               ARAUCA                      81     ARAUQUITA   \n",
       "7514            ANTIOQUIA                       5      ZARAGOZA   \n",
       "12156               CAUCA                      19      EL TAMBO   \n",
       "8953             PUTUMAYO                      86   PUERTO ASÍS   \n",
       "8116   NORTE DE SANTANDER                      54       TEORAMA   \n",
       "7163                 META                      50  VISTAHERMOSA   \n",
       "10888               CAUCA                      19      EL TAMBO   \n",
       "11586  NORTE DE SANTANDER                      54   SAN CALIXTO   \n",
       "\n",
       "      codigodanemunicipio tipoarea                                   sitio  \\\n",
       "3377                5,361    Rural                        Vereda El Olivar   \n",
       "2422               73,616    Rural  Vereda La Catalina, Finca Los Guayabos   \n",
       "1535               81,065    Rural                           Sur Filipinas   \n",
       "7514                5,895    Rural                         Sin información   \n",
       "12156              19,256    Rural                   CORREGIMIENTO HUISITÓ   \n",
       "8953               86,568    Rural                         Sin información   \n",
       "8116               54,800    Rural                         Sin información   \n",
       "7163               50,711    Rural                   Vereda La Reforma Sur   \n",
       "10888              19,256    Rural                      Huisito Santa Rita   \n",
       "11586              54,670    Rural                        VEREDA LA LAGUNA   \n",
       "\n",
       "         ano  mes         rangoedad grupoetnico       condicion  estado  \\\n",
       "3377   2,005    9  Mayor de 18 años          No  Fuerza pública  Hombre   \n",
       "2422   2,007    1  Menor de 18 años          No           Civil  Hombre   \n",
       "1535   2,009    1  Mayor de 18 años          No  Fuerza pública  Hombre   \n",
       "7514   2,001    4  Menor de 18 años          No           Civil   Mujer   \n",
       "12156  2,022    2  Mayor de 18 años          No           Civil  Hombre   \n",
       "8953   2,011    8  Mayor de 18 años          No  Fuerza pública  Hombre   \n",
       "8116   2,007    9  Mayor de 18 años          No  Fuerza pública  Hombre   \n",
       "7163   2,008    5  Mayor de 18 años          No  Fuerza pública  Hombre   \n",
       "10888  2,010    6  Mayor de 18 años          No  Fuerza pública  Hombre   \n",
       "11586  2,018    8  Menor de 18 años          No           Civil  Hombre   \n",
       "\n",
       "       genero  latitudcabecera  longitudcabecera       tipoevento  \\\n",
       "3377   Herido         7.231944        -75.864167  Sin informacion   \n",
       "2422   Muerto         3.529701        -75.644823  Sin informacion   \n",
       "1535   Herido         6.646667        -71.216944  Sin informacion   \n",
       "7514   Herido         7.490632        -74.867778  Sin informacion   \n",
       "12156  Herido         2.450573        -76.805205  Sin informacion   \n",
       "8953   Muerto         0.285278        -76.540833  Sin informacion   \n",
       "8116   Herido         8.441389        -73.268611  Sin informacion   \n",
       "7163   Herido         3.125088        -73.752373  Sin informacion   \n",
       "10888  Herido         2.604722        -77.012500  Sin informacion   \n",
       "11586  Herido         8.404078        -73.208168          Caminos   \n",
       "\n",
       "                                      Ubicación  \\\n",
       "3377                     (7.231944, -75.864167)   \n",
       "2422                     (3.529701, -75.644823)   \n",
       "1535   (6.6466666666666665, -71.21694444444445)   \n",
       "7514                     (7.490632, -74.867778)   \n",
       "12156           (2.45057270515, -76.8052045915)   \n",
       "8953             (0.2852777778, -76.5408333333)   \n",
       "8116                     (8.441389, -73.268611)   \n",
       "7163                     (3.125088, -73.752373)   \n",
       "10888              (2.60472222222222, -77.0125)   \n",
       "11586            (8.40407771429, -73.208167626)   \n",
       "\n",
       "                               Actividad  \n",
       "3377                      Fuerza pública  \n",
       "2422              Pasando, estando cerca  \n",
       "1535                      Fuerza pública  \n",
       "7514              Pasando, estando cerca  \n",
       "12156                    Sin Información  \n",
       "8953                      Fuerza pública  \n",
       "8116                      Fuerza pública  \n",
       "7163                      Fuerza pública  \n",
       "10888                     Fuerza pública  \n",
       "11586  Recogiendo comida, agua ó  madera  "
      ]
     },
     "execution_count": 17,
     "metadata": {},
     "output_type": "execute_result"
    }
   ],
   "source": [
    "registro_map.sample(10)"
   ]
  },
  {
   "cell_type": "markdown",
   "metadata": {},
   "source": [
    "Debido a que la base de información con la que se esta trabajando tiene en su mayoria variables categóricas, se quiere encontrar la información acerca de las categorias que cada una de ellas puede tener para posteriormente ser limpiada en el caso de que tengan caracteres especiales como tildes, acentos, ñ, entre otros. Para ello utilizaremos para identificar un arreglo con estas categoría (unique) y posteriormente bibliotecas como unicodedata y expresiones regulares (regex)."
   ]
  },
  {
   "cell_type": "code",
   "execution_count": 18,
   "metadata": {},
   "outputs": [
    {
     "data": {
      "text/plain": [
       "array(['ANTIOQUIA', 'CAQUETA', 'PUTUMAYO', 'CORDOBA', 'NARIÑO', 'CAUCA',\n",
       "       'GUAVIARE', 'META', 'NORTE DE SANTANDER', 'BOLIVAR', 'HUILA',\n",
       "       'VALLE DEL CAUCA', 'VAUPES', 'ARAUCA', 'TOLIMA', 'CASANARE',\n",
       "       'VICHADA', 'CHOCO', 'SANTANDER', 'CESAR', 'LA GUAJIRA',\n",
       "       'CUNDINAMARCA', 'CALDAS', 'BOGOTA DC', 'MAGDALENA', 'SUCRE',\n",
       "       'QUINDIO', 'BOYACA', 'GUAINIA', 'RISARALDA', 'ATLANTICO',\n",
       "       'AMAZONAS'], dtype=object)"
      ]
     },
     "execution_count": 18,
     "metadata": {},
     "output_type": "execute_result"
    }
   ],
   "source": [
    "registro_map['departamento'].unique()"
   ]
  },
  {
   "cell_type": "code",
   "execution_count": 19,
   "metadata": {},
   "outputs": [
    {
     "data": {
      "text/plain": [
       "array([ 5, 18, 86, 23, 52, 19, 95, 50, 54, 13, 41, 76, 97, 81, 73, 85, 99,\n",
       "       27, 68, 20, 44, 25, 17, 11, 47, 70, 63, 15, 94, 66,  8, 91],\n",
       "      dtype=int64)"
      ]
     },
     "execution_count": 19,
     "metadata": {},
     "output_type": "execute_result"
    }
   ],
   "source": [
    "registro_map['codigodanedepartamento'].unique()"
   ]
  },
  {
   "cell_type": "code",
   "execution_count": 291,
   "metadata": {},
   "outputs": [
    {
     "data": {
      "text/plain": [
       "array(['GRANADA', 'MONTAÑITA', 'PUERTO ASÍS', 'PUERTO LIBERTADOR',\n",
       "       'BARBACOAS', 'TARAZÁ', 'VALDIVIA', 'TORIBÍO', 'SANTA CRUZ',\n",
       "       'RICAURTE', 'EL RETORNO', 'SAN JUAN DE ARAMA', 'TIBÚ', 'SAN PABLO',\n",
       "       'SAN MIGUEL', 'SUÁREZ', 'EL CARMEN DE BOLÍVAR', 'MAPIRIPÁN',\n",
       "       'ALGECIRAS', 'ITUANGO', 'FLORIDA', 'BARAYA', 'TIERRALTA',\n",
       "       'TALAIGUA NUEVO', 'CARURÚ', 'TEORAMA', 'HACARÍ', 'CÁCERES',\n",
       "       'PUERTO RONDÓN', 'SAMANIEGO', 'TAME', 'MIRAFLORES', 'RIOBLANCO',\n",
       "       'CIÉNAGA DE ORO', 'CALAMAR', 'SAN CARLOS', 'APARTADÓ', 'LA PLAYA',\n",
       "       'VALLE DEL GUAMUEZ', 'SOLANO', 'SAN CALIXTO', 'SAN ANDRÉS',\n",
       "       'AGUAZUL', 'ISNOS', 'ARAUQUITA', 'PUERTO RICO', 'FLORENCIA',\n",
       "       'MEDELLÍN', 'COLOMBIA', 'EL TARRA', 'BALBOA', 'SANTA ROSA DEL SUR',\n",
       "       'URIBE', 'SAN LUIS', 'SAN JOSÉ DEL FRAGUA', 'PRADERA', 'PALERMO',\n",
       "       'ANORÍ', 'SAN JOSÉ DEL GUAVIARE', 'VISTAHERMOSA', 'ÁBREGO',\n",
       "       'CORINTO', 'URRAO', 'TULUÁ', 'MESETAS', 'EL TAMBO', 'CUMARIBO',\n",
       "       'CALOTO', 'SAN AGUSTÍN', 'BRICEÑO', 'EL CARMEN DEL DARIEN',\n",
       "       'BUGALAGRANDE', 'CANTAGALLO', 'CONVENCIÓN', 'VIGÍA DEL FUERTE',\n",
       "       'NECOCLÍ', 'SABANA DE TORRES', 'PAZ DE ARIPORO', 'DABEIBA',\n",
       "       'PUERRES', 'NEIVA', 'GUADALUPE', 'SAN PEDRO', 'PLANADAS',\n",
       "       'PUERTO CAICEDO', 'PUERTO LEGUÍZAMO', 'SAN VICENTE DEL CAGUÁN',\n",
       "       'LÓPEZ', 'LEJANÍAS', 'MELGAR', 'VALLEDUPAR', 'MITÚ', 'SANTA ROSA',\n",
       "       'URIBIA', 'RIOHACHA', 'LOS ANDES', 'EL BAGRE', 'ANGOSTURA',\n",
       "       'POLICARPA', 'SANTA BÁRBARA', 'TUMACO', 'CALDONO', 'ARGELIA',\n",
       "       'PUERTO TRIUNFO', 'TELLO', 'ARAUCA', 'EL CASTILLO', 'EL DORADO',\n",
       "       'ARENAL', 'PASCA', 'GUAMAL', 'IPIALES', 'SIMITÍ', 'CUBARRAL',\n",
       "       'CAMPOALEGRE', 'AMALFI', 'SÁCAMA', 'CUMBITARA',\n",
       "       'CARTAGENA DEL CHAIRÁ', 'VEGACHÍ', 'MILÁN', 'LA MACARENA',\n",
       "       'RONCESVALLES', 'SARDINATA', 'BELÉN DE LOS ANDAQUÍES',\n",
       "       'PUERTO GUZMÁN', 'CAMPAMENTO', 'TOLEDO', 'ORITO', 'SARAVENA',\n",
       "       'LA LLANADA', 'SAN FRANCISCO', 'MONTELÍBANO', 'EL MOLINO',\n",
       "       'NORCASIA', 'LANDÁZURI', 'LITORAL DEL SAN JUAN', 'HERRÁN',\n",
       "       'PALMIRA', 'LA SIERRA', 'PINILLOS', 'GARZÓN', 'SAMANÁ', 'SONSÓN',\n",
       "       'ROVIRA', 'PEQUE', 'MAGÜÍ', 'EL CHARCO', 'ZARAGOZA', 'CAUCASIA',\n",
       "       'SAN JACINTO DEL CAUCA', 'CURUMANÍ', 'FONSECA', 'Bogotá DC',\n",
       "       'BUENOS AIRES', 'ZAMBRANO', 'EL PAUJIL', 'LA JAGUA DE IBIRICO',\n",
       "       'RIOSUCIO', 'SAN RAFAEL', 'PÁCORA', 'CHIRIGUANÁ', 'EL CERRITO',\n",
       "       'SAN ANTONIO', 'EL DONCELLO', 'SANTA MARTA', 'LABATECA', 'COCORNÁ',\n",
       "       'FORTUL', 'CISNEROS', 'VILLAVICENCIO', 'CHIGORODÓ', 'TIQUISIO',\n",
       "       'TURBO', 'PÁEZ', 'OVEJAS', 'NECHÍ', 'CALIFORNIA', 'PELAYA',\n",
       "       'URUMITA', 'PIJAO', 'DAGUA', 'SEGOVIA', 'MIRANDA', 'DOLORES',\n",
       "       'VILLARRICA', 'BUENAVENTURA', 'ICONONZO', 'AGUACHICA', 'MUTATÁ',\n",
       "       'FRONTINO', 'SAN JOSÉ DEL PALMAR', 'CAREPA', 'EL CARMEN',\n",
       "       'VILLANUEVA', 'EL PEÑÓN', 'PIEDECUESTA', 'BARRANCABERMEJA',\n",
       "       'GALÁN', 'NARIÑO', 'CHITA', 'SUCRE', 'MORALES',\n",
       "       'SAN VICENTE DE CHUCURÍ', 'MATANZA', 'MANZANARES', 'PATÍA',\n",
       "       'QUIBDÓ', 'CABRERA', 'BUCARAMANGA', 'TIMBÍO', 'YARUMAL', 'CÓRDOBA',\n",
       "       'MALLAMA', 'CHAPARRAL', 'ROBERTO PAYÁN', 'OCAÑA', 'CURILLO',\n",
       "       'CALIMA', 'OTANCHE', 'MARULANDA', 'MAJAGUAL', 'LABRANZAGRANDE',\n",
       "       'LA PALMA', 'FÓMEQUE', 'SAN SEBASTIÁN', 'VALPARAÍSO', 'ORTEGA',\n",
       "       'EL CARMEN DEL ATRATO', 'SANTIAGO', 'MURINDÓ', 'TOPAIPÍ',\n",
       "       'POPAYÁN', 'ÚTICA', 'BECERRIL', 'LA BELLEZA', 'LA JAGUA DEL PILAR',\n",
       "       'CARMEN DE VIBORAL', 'GUATAPÉ', 'VILLAHERMOSA', 'PENSILVANIA',\n",
       "       'PAJARITO', 'GUAYABAL DE SÍQUIMA', 'ABEJORRAL', 'YOLOMBÓ',\n",
       "       'CIMITARRA', 'ALEJANDRÍA', 'ARBOLEDAS', 'BUGA', 'YONDÓ',\n",
       "       'SAN JUANITO', 'REMEDIOS', 'CAÑASGORDAS', 'SALAMINA', 'LA PEÑA',\n",
       "       'BARRANCOMINAS', 'SUAZA', 'LA VEGA', 'RIONEGRO', 'TAURAMENA',\n",
       "       'CONCEPCIÓN', 'LA CUMBRE', 'SESQUILÉ', 'INZÁ', 'ACEVEDO', 'YOPAL',\n",
       "       'UNE', 'CARAMANTA', 'CRAVO NORTE', 'CURITÍ',\n",
       "       'SANTANDER DE QUILICHAO', 'SANTUARIO', 'HATO COROZAL', 'HERVEO',\n",
       "       'SALAZAR', 'PUEBLO BELLO', 'TOTORÓ', 'MONTENEGRO', 'VILLAGARZÓN',\n",
       "       'SAN JACINTO', 'SANTO DOMINGO', 'EL ZULIA', 'SILVIA',\n",
       "       'AGUSTÍN CODAZZI', 'NÓVITA', 'DUITAMA', 'MORELIA', 'TASCO',\n",
       "       'MONTECRISTO', 'BOLÍVAR', 'SANTA ROSA DE OSOS', 'PEÑOL', 'GIRÓN',\n",
       "       'AGUADAS', 'ANZOÁTEGUI', 'AQUITANIA', 'EL COCUY', 'PUERTO GAITÁN',\n",
       "       'CALI', 'CARTAGENA DE INDIAS', 'BUCARASICA', 'GUTIÉRREZ', 'PRADO',\n",
       "       'SURATÁ', 'SAN BERNARDO', 'SAN JUAN NEPOMUCENO', 'EL CALVARIO',\n",
       "       'CAJAMARCA', 'SIMACOTA', 'JAMBALÓ', 'DIBULLA', 'PIENDAMÓ',\n",
       "       'JARDÍN', 'ACACÍAS', 'FUNDACIÓN', 'CHAGUANÍ', 'EL COPEY',\n",
       "       'CHÁMEZA', 'ATACO', 'CIÉNAGA', 'JURADÓ', 'VILLAGÓMEZ', 'GIGANTE',\n",
       "       'DURANIA', 'ALBÁN', 'PISBA', 'PAUNA', 'PURACÉ', 'CAJIBÍO',\n",
       "       'PUERTO LLERAS', 'CÚCUTA', 'CHALÁN', 'BAGADÓ', 'LA CRUZ',\n",
       "       'SAN LORENZO', 'GUADUAS', 'MISTRATÓ', 'LA DORADA', 'PULÍ', 'YALÍ',\n",
       "       'LINARES', 'CÁCHIRA', 'MANIZALES', 'ZAPATOCA', 'SUPÍA', 'MOCOA',\n",
       "       'TADÓ', 'LÉRIDA', 'CARACOLÍ', 'NATAGAIMA', 'REGIDOR', 'UNGUÍA',\n",
       "       'HATO', 'CHOCONTÁ', 'ACHÍ', 'PUERTO CONCORDIA',\n",
       "       'SANTA FE ANTIOQUIA', 'GACHETÁ', 'CHISCAS', 'MONTEBELLO',\n",
       "       'GUAYABETAL', 'VENADILLO', 'PUERTO WILCHES', 'VIANÍ', 'SUAITA',\n",
       "       'MACHETÁ', 'BAHÍA SOLANO', 'QUETAME', 'CHARTA', 'BELLO', 'VÉLEZ',\n",
       "       'BARRANQUILLA', 'QUINCHÍA', 'ALVARADO', 'LA ESTRELLA', 'BOJAYÁ',\n",
       "       'QUEBRADANEGRA', 'EL PLAYÓN', 'ARACATACA', 'SOLITA', 'TÚQUERRES',\n",
       "       'PLATO', 'RÍOVIEJO', 'SAN VICENTE', 'PEREIRA', 'GAMA', 'SEVILLA',\n",
       "       'GÉNOVA', 'RIOFRÍO', 'LÍBANO', 'COLOSÓ', 'EL GUAMO', 'MACARAVITA',\n",
       "       'IBAGUÉ', 'SAN MARTÍN DE LOBA', 'NILO', 'SAN ROQUE', 'LA UNIÓN',\n",
       "       'TÁMARA', 'SAN ONOFRE', 'PUERTO CARREÑO', 'ANSERMA',\n",
       "       'SABANAGRANDE', 'SAN MARTÍN', 'LA SALINA', 'PAILITAS',\n",
       "       'VILLAPINZÓN', 'ALMAGUER', 'BURITICÁ', 'GUÁTICA', 'GARAGOA',\n",
       "       'SAN JUAN DEL CESAR', 'LEBRÍJA', 'BELALCÁZAR', 'BARRANCO DE LOBA',\n",
       "       'SASAIMA', 'PUEBLO RICO', 'COLÓN', 'CÁQUEZA', 'PANDI',\n",
       "       'SAN JUAN DE RIOSECO', 'CAPARRAPÍ', 'GALERAS', 'EL ÁGUILA',\n",
       "       'JAMUNDÍ', 'CUMBAL', 'SAN JERÓNIMO', 'LA PLATA', 'LOS PALMITOS',\n",
       "       'TÁMESIS', 'GUARNE', 'MORROA', 'PITALITO', 'PUERTO BERRÍO',\n",
       "       'SOCORRO', 'COYAIMA', 'MONTERÍA', 'ABRIAQUÍ', 'GÓMEZ PLATA',\n",
       "       'VERGARA', 'ANZÁ', 'FUENTE DE ORO', 'INIRIDA', 'RESTREPO',\n",
       "       'SAN ALBERTO', 'LA ARGENTINA', 'BELTRÁN', 'LIBORINA',\n",
       "       'SANTA ROSA DE CABAL', 'PAYA', 'SAN EDUARDO', 'GUATAVITA',\n",
       "       'SOGAMOSO', 'GUARANDA', 'QUÍPAMA', 'BELÉN', 'MEDIO ATRATO',\n",
       "       'LLORÓ', 'EL ROSARIO', 'COROZAL', 'GUACARÍ', 'SANTA MARÍA',\n",
       "       'LEIVA', 'CHIPAQUE', 'SABANALARGA', 'MANAURE BALCÓN DEL CESAR',\n",
       "       'NUQUÍ', 'ALBANIA', 'SIPÍ', 'CaRDOBA', 'CERTEGUI', 'SANDONÁ',\n",
       "       'MERCADERES', 'RIVERA', 'ISTMINA', 'BELÉN DE UMBRÍA', 'CUBARÁ',\n",
       "       'ACANDÍ', 'PUERTO SANTANDER', 'ALTO BAUDÓ', 'LA PAZ', 'FILADELFIA',\n",
       "       'ZONA BANANERA', 'RIO IRÓ', 'MACEO', 'NOROSÍ', 'SAN JUAN DE URABÁ',\n",
       "       'EL CANTÓN DEL SAN PABLO', 'RIO QUITO', 'BAJO BAUDÓ', 'IQUIRA',\n",
       "       'PIAMONTE', 'OLAYA HERRERA', 'MEDIO SAN JUAN', 'MEDIO BAUDÓ',\n",
       "       'GUAPI', 'PINCHOTE', 'EL DOVIO'], dtype=object)"
      ]
     },
     "execution_count": 291,
     "metadata": {},
     "output_type": "execute_result"
    }
   ],
   "source": [
    "registro_map['municipio'].unique()"
   ]
  },
  {
   "cell_type": "code",
   "execution_count": 21,
   "metadata": {},
   "outputs": [
    {
     "data": {
      "text/plain": [
       "array(['5,313', '18,410', '86,568', '23,580', '52,079', '5,790', '5,854',\n",
       "       '19,821', '52,699', '52,612', '95,025', '50,683', '54,810',\n",
       "       '13,670', '86,757', '19,780', '13,244', '50,325', '41,020',\n",
       "       '5,361', '76,275', '41,078', '23,807', '13,780', '97,161',\n",
       "       '54,800', '54,344', '5,120', '81,591', '52,678', '81,794',\n",
       "       '95,200', '73,616', '23,189', '95,015', '5,649', '5,045', '54,398',\n",
       "       '86,865', '18,756', '54,670', '5,647', '85,010', '41,359',\n",
       "       '81,065', '18,592', '18,001', '5,001', '41,206', '54,250',\n",
       "       '50,590', '19,075', '13,688', '50,370', '5,660', '18,610',\n",
       "       '76,563', '41,524', '5,040', '95,001', '50,711', '54,003',\n",
       "       '19,212', '5,847', '76,834', '50,330', '19,256', '99,773',\n",
       "       '19,142', '41,668', '5,107', '27,150', '76,113', '13,160',\n",
       "       '54,206', '5,873', '5,490', '68,655', '85,250', '5,234', '52,573',\n",
       "       '41,001', '5,315', '76,670', '73,555', '86,569', '86,573',\n",
       "       '18,753', '19,418', '50,400', '73,449', '20,001', '97,001',\n",
       "       '19,701', '44,847', '44,001', '52,418', '5,250', '5,038', '52,540',\n",
       "       '52,696', '52,835', '19,137', '19,050', '5,591', '41,799',\n",
       "       '81,001', '50,251', '50,270', '13,042', '25,535', '50,318',\n",
       "       '52,356', '13,744', '50,223', '41,132', '5,031', '85,315',\n",
       "       '52,233', '18,150', '5,858', '18,460', '50,350', '73,622',\n",
       "       '54,720', '18,094', '86,571', '5,134', '54,820', '86,320',\n",
       "       '81,736', '52,385', '5,652', '23,466', '44,110', '17,495',\n",
       "       '68,385', '27,250', '54,347', '76,520', '19,392', '50,313',\n",
       "       '13,549', '41,298', '17,662', '5,756', '73,624', '5,543', '52,427',\n",
       "       '52,250', '5,895', '5,154', '13,655', '20,228', '44,279', '11,001',\n",
       "       '19,110', '13,894', '18,256', '20,400', '27,615', '5,667',\n",
       "       '17,513', '20,178', '76,248', '73,675', '18,247', '47,001',\n",
       "       '54,377', '5,197', '81,300', '5,190', '50,001', '5,172', '13,810',\n",
       "       '5,837', '19,517', '70,508', '5,495', '68,132', '20,550', '44,855',\n",
       "       '63,548', '76,233', '5,736', '19,455', '73,236', '73,873',\n",
       "       '76,109', '73,352', '20,011', '5,480', '5,284', '27,660', '5,147',\n",
       "       '68,235', '13,873', '68,250', '68,547', '68,081', '68,296',\n",
       "       '5,483', '15,183', '68,773', '13,473', '68,689', '68,444',\n",
       "       '17,433', '19,532', '27,001', '25,120', '68,001', '19,807',\n",
       "       '5,887', '63,212', '52,435', '44,874', '5,055', '73,168', '52,621',\n",
       "       '54,245', '54,498', '18,205', '76,126', '15,507', '17,446',\n",
       "       '70,429', '15,377', '25,394', '25,279', '19,693', '18,860',\n",
       "       '73,504', '27,245', '54,680', '5,475', '25,823', '17,614',\n",
       "       '19,001', '25,851', '20,045', '68,377', '44,420', '5,148', '5,321',\n",
       "       '73,870', '17,541', '68,686', '15,518', '25,328', '5,002', '5,890',\n",
       "       '68,190', '70,771', '5,021', '54,051', '76,111', '5,893', '50,686',\n",
       "       '5,604', '5,138', '17,653', '25,398', '94,343', '41,770', '19,397',\n",
       "       '68,615', '85,410', '5,206', '76,377', '25,736', '19,355',\n",
       "       '41,006', '85,001', '25,845', '5,145', '81,220', '68,229',\n",
       "       '19,698', '5,697', '85,125', '73,347', '54,660', '20,570',\n",
       "       '19,824', '63,470', '86,885', '13,654', '5,690', '54,261',\n",
       "       '19,743', '20,013', '27,491', '15,238', '18,479', '15,790',\n",
       "       '13,458', '19,100', '5,686', '5,541', '68,307', '17,013', '73,043',\n",
       "       '15,047', '15,244', '50,568', '76,001', '13,001', '54,109',\n",
       "       '25,339', '68,320', '73,563', '68,780', '25,649', '13,657',\n",
       "       '50,245', '73,124', '68,745', '86,760', '19,364', '44,090',\n",
       "       '19,548', '5,364', '50,006', '47,288', '25,168', '20,238',\n",
       "       '85,015', '73,067', '47,189', '27,372', '25,871', '41,306',\n",
       "       '54,239', '13,212', '25,019', '15,550', '15,531', '19,585',\n",
       "       '19,130', '50,577', '54,001', '70,230', '25,258', '27,073',\n",
       "       '52,378', '52,687', '25,320', '66,456', '17,380', '25,580',\n",
       "       '5,885', '52,411', '54,128', '17,001', '68,895', '17,777',\n",
       "       '86,001', '27,787', '73,408', '5,142', '73,483', '13,580',\n",
       "       '27,800', '68,344', '25,183', '13,006', '66,687', '50,450',\n",
       "       '5,042', '25,297', '15,180', '5,467', '25,335', '73,861', '68,575',\n",
       "       '25,867', '68,770', '25,426', '27,075', '25,594', '68,169',\n",
       "       '5,088', '68,861', '8,001', '66,594', '73,026', '5,380', '27,099',\n",
       "       '25,592', '68,255', '47,053', '18,785', '52,838', '47,555',\n",
       "       '13,600', '5,674', '66,001', '25,299', '76,736', '63,302',\n",
       "       '76,616', '15,514', '73,411', '70,204', '13,248', '68,425',\n",
       "       '73,001', '13,667', '25,488', '5,670', '70,400', '85,400',\n",
       "       '70,713', '99,001', '17,042', '8,634', '20,770', '85,136',\n",
       "       '20,517', '25,873', '19,022', '5,113', '66,318', '5,615', '15,299',\n",
       "       '44,650', '68,406', '17,088', '13,074', '25,718', '66,572',\n",
       "       '52,203', '25,151', '25,524', '25,662', '25,148', '70,235',\n",
       "       '76,243', '76,364', '5,400', '52,227', '5,656', '41,396', '70,418',\n",
       "       '5,789', '5,318', '70,473', '41,551', '5,579', '68,755', '73,217',\n",
       "       '23,001', '5,004', '5,310', '25,862', '5,044', '50,287', '94,001',\n",
       "       '19,290', '76,606', '20,710', '41,378', '25,086', '5,411',\n",
       "       '66,682', '15,533', '15,660', '25,326', '15,759', '70,265',\n",
       "       '15,580', '52,693', '52,083', '27,425', '27,413', '52,256',\n",
       "       '70,215', '76,318', '41,676', '5,819', '52,405', '25,178', '5,628',\n",
       "       '20,443', '27,495', '44,035', '19,473', '27,745', '52,215',\n",
       "       '27,160', '52,683', '19,450', '41,615', '27,361', '66,088',\n",
       "       '15,223', '27,006', '91,669', '27,025', '20,621', '17,272',\n",
       "       '47,980', '27,580', '5,425', '13,490', '52,685', '5,659', '27,135',\n",
       "       '27,600', '27,077', '41,357', '19,533', '52,490', '27,450',\n",
       "       '27,430', '19,318', '68,549', '76,250'], dtype=object)"
      ]
     },
     "execution_count": 21,
     "metadata": {},
     "output_type": "execute_result"
    }
   ],
   "source": [
    "registro_map['codigodanemunicipio'].unique()"
   ]
  },
  {
   "cell_type": "code",
   "execution_count": 22,
   "metadata": {},
   "outputs": [
    {
     "data": {
      "text/plain": [
       "array(['Rural', 'Urbana'], dtype=object)"
      ]
     },
     "execution_count": 22,
     "metadata": {},
     "output_type": "execute_result"
    }
   ],
   "source": [
    "registro_map['tipoarea'].unique()"
   ]
  },
  {
   "cell_type": "code",
   "execution_count": 23,
   "metadata": {},
   "outputs": [
    {
     "data": {
      "text/plain": [
       "array(['Sin información', 'Vereda Santa Lucia', 'Quebrada Iraca', ...,\n",
       "       'VEREDA SAN JOSE LOS ROBLES', 'VEREDA EL ASUAY',\n",
       "       'RESGUARDO DE VEGAS CHAGÜI - CHIMBUZA'], dtype=object)"
      ]
     },
     "execution_count": 23,
     "metadata": {},
     "output_type": "execute_result"
    }
   ],
   "source": [
    "registro_map['sitio'].unique()"
   ]
  },
  {
   "cell_type": "code",
   "execution_count": 24,
   "metadata": {},
   "outputs": [
    {
     "data": {
      "text/plain": [
       "array(['2,006', '2,009', '2,008', '2,010', '1,993', '2,000', '2,003',\n",
       "       '2,004', '2,007', '2,005', '2,001', '2,011', '1,996', '2,002',\n",
       "       '1,999', '1,998', '1,994', '1,992', '1,997', '1,991', '1,995',\n",
       "       '1,990', '2,015', '2,013', '2,012', '2,014', '2,016', '2,017',\n",
       "       '2,018', '2,019', '2,020', '2,021', '2,022', '1,984', '2,023'],\n",
       "      dtype=object)"
      ]
     },
     "execution_count": 24,
     "metadata": {},
     "output_type": "execute_result"
    }
   ],
   "source": [
    "registro_map['ano'].unique()"
   ]
  },
  {
   "cell_type": "code",
   "execution_count": 25,
   "metadata": {},
   "outputs": [
    {
     "data": {
      "text/plain": [
       "array([ 1, 12,  4, 11,  3,  8,  7, 10,  9,  2,  5,  6], dtype=int64)"
      ]
     },
     "execution_count": 25,
     "metadata": {},
     "output_type": "execute_result"
    }
   ],
   "source": [
    "registro_map['mes'].unique()"
   ]
  },
  {
   "cell_type": "code",
   "execution_count": 26,
   "metadata": {},
   "outputs": [
    {
     "data": {
      "text/plain": [
       "array(['Mayor de 18 años', 'Menor de 18 años'], dtype=object)"
      ]
     },
     "execution_count": 26,
     "metadata": {},
     "output_type": "execute_result"
    }
   ],
   "source": [
    "registro_map['rangoedad'].unique()"
   ]
  },
  {
   "cell_type": "code",
   "execution_count": 27,
   "metadata": {},
   "outputs": [
    {
     "data": {
      "text/plain": [
       "array(['No', 'Indigena', 'Afrodescendiente'], dtype=object)"
      ]
     },
     "execution_count": 27,
     "metadata": {},
     "output_type": "execute_result"
    }
   ],
   "source": [
    "registro_map['grupoetnico'].unique()"
   ]
  },
  {
   "cell_type": "code",
   "execution_count": 28,
   "metadata": {},
   "outputs": [
    {
     "data": {
      "text/plain": [
       "array(['Civil', 'Fuerza pública'], dtype=object)"
      ]
     },
     "execution_count": 28,
     "metadata": {},
     "output_type": "execute_result"
    }
   ],
   "source": [
    "registro_map['condicion'].unique()"
   ]
  },
  {
   "cell_type": "code",
   "execution_count": 29,
   "metadata": {},
   "outputs": [
    {
     "data": {
      "text/plain": [
       "array(['Hombre', 'Mujer', 'Sin Información'], dtype=object)"
      ]
     },
     "execution_count": 29,
     "metadata": {},
     "output_type": "execute_result"
    }
   ],
   "source": [
    "registro_map['estado'].unique()"
   ]
  },
  {
   "cell_type": "code",
   "execution_count": 30,
   "metadata": {},
   "outputs": [
    {
     "data": {
      "text/plain": [
       "array(['Herido', 'Muerto'], dtype=object)"
      ]
     },
     "execution_count": 30,
     "metadata": {},
     "output_type": "execute_result"
    }
   ],
   "source": [
    "registro_map['genero'].unique()"
   ]
  },
  {
   "cell_type": "code",
   "execution_count": 31,
   "metadata": {},
   "outputs": [
    {
     "data": {
      "text/plain": [
       "array([6.143703  , 1.49494421, 0.502569  , ..., 8.65833333, 0.82981043,\n",
       "       1.19076306])"
      ]
     },
     "execution_count": 31,
     "metadata": {},
     "output_type": "execute_result"
    }
   ],
   "source": [
    "registro_map['latitudcabecera'].unique()"
   ]
  },
  {
   "cell_type": "code",
   "execution_count": 32,
   "metadata": {},
   "outputs": [
    {
     "data": {
      "text/plain": [
       "array([-75.185183  , -75.46308951, -76.49818   , ..., -73.14694444,\n",
       "       -77.62976048, -78.11700694])"
      ]
     },
     "execution_count": 32,
     "metadata": {},
     "output_type": "execute_result"
    }
   ],
   "source": [
    "registro_map['longitudcabecera'].unique()"
   ]
  },
  {
   "cell_type": "code",
   "execution_count": 33,
   "metadata": {},
   "outputs": [
    {
     "data": {
      "text/plain": [
       "array(['Sin informacion', 'En cerca a edificio residencial', 'Caminos',\n",
       "       'Cerros', 'en sobre cerca rivera de un rio', 'Canos', 'Quebradas',\n",
       "       'Sendero', 'Viviendas abandonadas', 'Campo', 'Fincas', 'Puentes',\n",
       "       'Campamentos ilegales', 'Infraestructura de comunicaciones',\n",
       "       'Carretera', 'Oleoductos', 'En cerca instalacion militar',\n",
       "       'Borde de la carretera', 'Escuelas', 'Infra torres electricas',\n",
       "       'Centro de salud', 'Infra gaseoducto',\n",
       "       'Centros deportivos recreacion', 'En cerca edificio gubernamental'],\n",
       "      dtype=object)"
      ]
     },
     "execution_count": 33,
     "metadata": {},
     "output_type": "execute_result"
    }
   ],
   "source": [
    "registro_map['tipoevento'].unique()"
   ]
  },
  {
   "cell_type": "code",
   "execution_count": 34,
   "metadata": {},
   "outputs": [
    {
     "data": {
      "text/plain": [
       "array(['(6.143703, -75.185183)', '(1.49494421255, -75.4630895064)',\n",
       "       '(0.502569, -76.49818)', ...,\n",
       "       '(8.65833333333333, -73.1469444444444)',\n",
       "       '(0.82981043391, -77.6297604828)',\n",
       "       '(1.19076305555556, -78.1170069444444)'], dtype=object)"
      ]
     },
     "execution_count": 34,
     "metadata": {},
     "output_type": "execute_result"
    }
   ],
   "source": [
    "registro_map['Ubicación'].unique()"
   ]
  },
  {
   "cell_type": "code",
   "execution_count": 35,
   "metadata": {},
   "outputs": [
    {
     "data": {
      "text/plain": [
       "array(['Pasando, estando cerca', 'Erradicador manual - PCI',\n",
       "       'Fuerza pública', 'Sin Información', 'Transito por via usual',\n",
       "       'Cuidado de animales', 'Trabajos de casa',\n",
       "       'Transito por trocha atajo', 'Otra', 'Agricultura',\n",
       "       'Recogiendo comida, agua ó  madera',\n",
       "       'Erradicacion de cultivos ilicitos', 'Jugando', 'Caza, pesca',\n",
       "       'Viajando', 'Manipulación', 'Labores de desminado',\n",
       "       'Mantenimiento de infraestructura', 'Actividades fuerza pública',\n",
       "       'Labores de rescate', 'Erradicación - PONAL'], dtype=object)"
      ]
     },
     "execution_count": 35,
     "metadata": {},
     "output_type": "execute_result"
    }
   ],
   "source": [
    "registro_map['Actividad'].unique()"
   ]
  },
  {
   "cell_type": "markdown",
   "metadata": {},
   "source": [
    "## **3- Limpieza de la información.**"
   ]
  },
  {
   "cell_type": "markdown",
   "metadata": {},
   "source": [
    "Realizamos una funcion que nos permita realizar la limpieza de los valores unicos de cada variable, las cuales se guardaran en un nuevo dataset el cual denominaremos como registro_map_limpia."
   ]
  },
  {
   "cell_type": "code",
   "execution_count": 36,
   "metadata": {},
   "outputs": [],
   "source": [
    "def limpiar_texto(texto):\n",
    "    # Normalizar texto eliminando diacríticos (tildes, acentos)\n",
    "    texto_normalizado = unicodedata.normalize('NFKD', texto).encode('ASCII', 'ignore').decode('ASCII')\n",
    "    \n",
    "    # Utilizar expresiones regulares para eliminar caracteres específicos\n",
    "    texto_limpio = re.sub(r'[^\\w\\s]', '', texto_normalizado)\n",
    "    \n",
    "    return texto_limpio"
   ]
  },
  {
   "cell_type": "code",
   "execution_count": 37,
   "metadata": {},
   "outputs": [],
   "source": [
    "def limpiar_tabla(tabla):\n",
    "    \"\"\"Función para limpiar cada valor de cada columna en una tabla.\"\"\"\n",
    "    tabla_limpia = {}\n",
    "    \n",
    "    for columna, valores in tabla.items():\n",
    "        valores_limpio = [limpiar_texto(str(valor)) for valor in valores]\n",
    "        tabla_limpia[columna] = valores_limpio\n",
    "    \n",
    "    # Convertir el diccionario a un DataFrame de pandas\n",
    "    df = pd.DataFrame(tabla_limpia)\n",
    "\n",
    "    return df"
   ]
  },
  {
   "cell_type": "code",
   "execution_count": 38,
   "metadata": {},
   "outputs": [],
   "source": [
    "registro_map_limpia = limpiar_tabla(registro_map)"
   ]
  },
  {
   "cell_type": "code",
   "execution_count": 39,
   "metadata": {},
   "outputs": [
    {
     "data": {
      "text/html": [
       "<div>\n",
       "<style scoped>\n",
       "    .dataframe tbody tr th:only-of-type {\n",
       "        vertical-align: middle;\n",
       "    }\n",
       "\n",
       "    .dataframe tbody tr th {\n",
       "        vertical-align: top;\n",
       "    }\n",
       "\n",
       "    .dataframe thead th {\n",
       "        text-align: right;\n",
       "    }\n",
       "</style>\n",
       "<table border=\"1\" class=\"dataframe\">\n",
       "  <thead>\n",
       "    <tr style=\"text-align: right;\">\n",
       "      <th></th>\n",
       "      <th>departamento</th>\n",
       "      <th>codigodanedepartamento</th>\n",
       "      <th>municipio</th>\n",
       "      <th>codigodanemunicipio</th>\n",
       "      <th>tipoarea</th>\n",
       "      <th>sitio</th>\n",
       "      <th>ano</th>\n",
       "      <th>mes</th>\n",
       "      <th>rangoedad</th>\n",
       "      <th>grupoetnico</th>\n",
       "      <th>condicion</th>\n",
       "      <th>estado</th>\n",
       "      <th>genero</th>\n",
       "      <th>latitudcabecera</th>\n",
       "      <th>longitudcabecera</th>\n",
       "      <th>tipoevento</th>\n",
       "      <th>Ubicación</th>\n",
       "      <th>Actividad</th>\n",
       "    </tr>\n",
       "  </thead>\n",
       "  <tbody>\n",
       "    <tr>\n",
       "      <th>0</th>\n",
       "      <td>ANTIOQUIA</td>\n",
       "      <td>5</td>\n",
       "      <td>GRANADA</td>\n",
       "      <td>5313</td>\n",
       "      <td>Rural</td>\n",
       "      <td>Sin informacion</td>\n",
       "      <td>2006</td>\n",
       "      <td>1</td>\n",
       "      <td>Mayor de 18 anos</td>\n",
       "      <td>No</td>\n",
       "      <td>Civil</td>\n",
       "      <td>Hombre</td>\n",
       "      <td>Herido</td>\n",
       "      <td>6143703</td>\n",
       "      <td>75185183</td>\n",
       "      <td>Sin informacion</td>\n",
       "      <td>6143703 75185183</td>\n",
       "      <td>Pasando estando cerca</td>\n",
       "    </tr>\n",
       "    <tr>\n",
       "      <th>1</th>\n",
       "      <td>CAQUETA</td>\n",
       "      <td>18</td>\n",
       "      <td>MONTANITA</td>\n",
       "      <td>18410</td>\n",
       "      <td>Rural</td>\n",
       "      <td>Sin informacion</td>\n",
       "      <td>2009</td>\n",
       "      <td>12</td>\n",
       "      <td>Mayor de 18 anos</td>\n",
       "      <td>No</td>\n",
       "      <td>Civil</td>\n",
       "      <td>Hombre</td>\n",
       "      <td>Herido</td>\n",
       "      <td>149494421255</td>\n",
       "      <td>754630895064</td>\n",
       "      <td>Sin informacion</td>\n",
       "      <td>149494421255 754630895064</td>\n",
       "      <td>Erradicador manual  PCI</td>\n",
       "    </tr>\n",
       "    <tr>\n",
       "      <th>2</th>\n",
       "      <td>PUTUMAYO</td>\n",
       "      <td>86</td>\n",
       "      <td>PUERTO ASIS</td>\n",
       "      <td>86568</td>\n",
       "      <td>Rural</td>\n",
       "      <td>Sin informacion</td>\n",
       "      <td>2008</td>\n",
       "      <td>4</td>\n",
       "      <td>Mayor de 18 anos</td>\n",
       "      <td>No</td>\n",
       "      <td>Civil</td>\n",
       "      <td>Hombre</td>\n",
       "      <td>Muerto</td>\n",
       "      <td>0502569</td>\n",
       "      <td>7649818</td>\n",
       "      <td>Sin informacion</td>\n",
       "      <td>0502569 7649818</td>\n",
       "      <td>Erradicador manual  PCI</td>\n",
       "    </tr>\n",
       "    <tr>\n",
       "      <th>3</th>\n",
       "      <td>CORDOBA</td>\n",
       "      <td>23</td>\n",
       "      <td>PUERTO LIBERTADOR</td>\n",
       "      <td>23580</td>\n",
       "      <td>Rural</td>\n",
       "      <td>Sin informacion</td>\n",
       "      <td>2009</td>\n",
       "      <td>11</td>\n",
       "      <td>Mayor de 18 anos</td>\n",
       "      <td>No</td>\n",
       "      <td>Civil</td>\n",
       "      <td>Hombre</td>\n",
       "      <td>Herido</td>\n",
       "      <td>7883545</td>\n",
       "      <td>75670508</td>\n",
       "      <td>Sin informacion</td>\n",
       "      <td>7883545 75670508</td>\n",
       "      <td>Erradicador manual  PCI</td>\n",
       "    </tr>\n",
       "    <tr>\n",
       "      <th>4</th>\n",
       "      <td>CORDOBA</td>\n",
       "      <td>23</td>\n",
       "      <td>PUERTO LIBERTADOR</td>\n",
       "      <td>23580</td>\n",
       "      <td>Rural</td>\n",
       "      <td>Sin informacion</td>\n",
       "      <td>2009</td>\n",
       "      <td>11</td>\n",
       "      <td>Mayor de 18 anos</td>\n",
       "      <td>No</td>\n",
       "      <td>Civil</td>\n",
       "      <td>Hombre</td>\n",
       "      <td>Herido</td>\n",
       "      <td>7883545</td>\n",
       "      <td>75670508</td>\n",
       "      <td>Sin informacion</td>\n",
       "      <td>7883545 75670508</td>\n",
       "      <td>Erradicador manual  PCI</td>\n",
       "    </tr>\n",
       "  </tbody>\n",
       "</table>\n",
       "</div>"
      ],
      "text/plain": [
       "  departamento codigodanedepartamento          municipio codigodanemunicipio  \\\n",
       "0    ANTIOQUIA                      5            GRANADA                5313   \n",
       "1      CAQUETA                     18          MONTANITA               18410   \n",
       "2     PUTUMAYO                     86        PUERTO ASIS               86568   \n",
       "3      CORDOBA                     23  PUERTO LIBERTADOR               23580   \n",
       "4      CORDOBA                     23  PUERTO LIBERTADOR               23580   \n",
       "\n",
       "  tipoarea            sitio   ano mes         rangoedad grupoetnico condicion  \\\n",
       "0    Rural  Sin informacion  2006   1  Mayor de 18 anos          No     Civil   \n",
       "1    Rural  Sin informacion  2009  12  Mayor de 18 anos          No     Civil   \n",
       "2    Rural  Sin informacion  2008   4  Mayor de 18 anos          No     Civil   \n",
       "3    Rural  Sin informacion  2009  11  Mayor de 18 anos          No     Civil   \n",
       "4    Rural  Sin informacion  2009  11  Mayor de 18 anos          No     Civil   \n",
       "\n",
       "   estado  genero latitudcabecera longitudcabecera       tipoevento  \\\n",
       "0  Hombre  Herido         6143703         75185183  Sin informacion   \n",
       "1  Hombre  Herido    149494421255     754630895064  Sin informacion   \n",
       "2  Hombre  Muerto         0502569          7649818  Sin informacion   \n",
       "3  Hombre  Herido         7883545         75670508  Sin informacion   \n",
       "4  Hombre  Herido         7883545         75670508  Sin informacion   \n",
       "\n",
       "                   Ubicación                Actividad  \n",
       "0           6143703 75185183    Pasando estando cerca  \n",
       "1  149494421255 754630895064  Erradicador manual  PCI  \n",
       "2            0502569 7649818  Erradicador manual  PCI  \n",
       "3           7883545 75670508  Erradicador manual  PCI  \n",
       "4           7883545 75670508  Erradicador manual  PCI  "
      ]
     },
     "execution_count": 39,
     "metadata": {},
     "output_type": "execute_result"
    }
   ],
   "source": [
    "registro_map_limpia.head()"
   ]
  },
  {
   "cell_type": "markdown",
   "metadata": {},
   "source": [
    "A continuación, realizaremos verificación de la limpieza de la información: "
   ]
  },
  {
   "cell_type": "code",
   "execution_count": 40,
   "metadata": {},
   "outputs": [
    {
     "data": {
      "text/plain": [
       "array(['ANTIOQUIA', 'CAQUETA', 'PUTUMAYO', 'CORDOBA', 'NARINO', 'CAUCA',\n",
       "       'GUAVIARE', 'META', 'NORTE DE SANTANDER', 'BOLIVAR', 'HUILA',\n",
       "       'VALLE DEL CAUCA', 'VAUPES', 'ARAUCA', 'TOLIMA', 'CASANARE',\n",
       "       'VICHADA', 'CHOCO', 'SANTANDER', 'CESAR', 'LA GUAJIRA',\n",
       "       'CUNDINAMARCA', 'CALDAS', 'BOGOTA DC', 'MAGDALENA', 'SUCRE',\n",
       "       'QUINDIO', 'BOYACA', 'GUAINIA', 'RISARALDA', 'ATLANTICO',\n",
       "       'AMAZONAS'], dtype=object)"
      ]
     },
     "execution_count": 40,
     "metadata": {},
     "output_type": "execute_result"
    }
   ],
   "source": [
    "registro_map_limpia['departamento'].unique()"
   ]
  },
  {
   "cell_type": "code",
   "execution_count": 41,
   "metadata": {},
   "outputs": [
    {
     "data": {
      "text/plain": [
       "array(['GRANADA', 'MONTANITA', 'PUERTO ASIS', 'PUERTO LIBERTADOR',\n",
       "       'BARBACOAS', 'TARAZA', 'VALDIVIA', 'TORIBIO', 'SANTA CRUZ',\n",
       "       'RICAURTE', 'EL RETORNO', 'SAN JUAN DE ARAMA', 'TIBU', 'SAN PABLO',\n",
       "       'SAN MIGUEL', 'SUAREZ', 'EL CARMEN DE BOLIVAR', 'MAPIRIPAN',\n",
       "       'ALGECIRAS', 'ITUANGO', 'FLORIDA', 'BARAYA', 'TIERRALTA',\n",
       "       'TALAIGUA NUEVO', 'CARURU', 'TEORAMA', 'HACARI', 'CACERES',\n",
       "       'PUERTO RONDON', 'SAMANIEGO', 'TAME', 'MIRAFLORES', 'RIOBLANCO',\n",
       "       'CIENAGA DE ORO', 'CALAMAR', 'SAN CARLOS', 'APARTADO', 'LA PLAYA',\n",
       "       'VALLE DEL GUAMUEZ', 'SOLANO', 'SAN CALIXTO', 'SAN ANDRES',\n",
       "       'AGUAZUL', 'ISNOS', 'ARAUQUITA', 'PUERTO RICO', 'FLORENCIA',\n",
       "       'MEDELLIN', 'COLOMBIA', 'EL TARRA', 'BALBOA', 'SANTA ROSA DEL SUR',\n",
       "       'URIBE', 'SAN LUIS', 'SAN JOSE DEL FRAGUA', 'PRADERA', 'PALERMO',\n",
       "       'ANORI', 'SAN JOSE DEL GUAVIARE', 'VISTAHERMOSA', 'ABREGO',\n",
       "       'CORINTO', 'URRAO', 'TULUA', 'MESETAS', 'EL TAMBO', 'CUMARIBO',\n",
       "       'CALOTO', 'SAN AGUSTIN', 'BRICENO', 'EL CARMEN DEL DARIEN',\n",
       "       'BUGALAGRANDE', 'CANTAGALLO', 'CONVENCION', 'VIGIA DEL FUERTE',\n",
       "       'NECOCLI', 'SABANA DE TORRES', 'PAZ DE ARIPORO', 'DABEIBA',\n",
       "       'PUERRES', 'NEIVA', 'GUADALUPE', 'SAN PEDRO', 'PLANADAS',\n",
       "       'PUERTO CAICEDO', 'PUERTO LEGUIZAMO', 'SAN VICENTE DEL CAGUAN',\n",
       "       'LOPEZ', 'LEJANIAS', 'MELGAR', 'VALLEDUPAR', 'MITU', 'SANTA ROSA',\n",
       "       'URIBIA', 'RIOHACHA', 'LOS ANDES', 'EL BAGRE', 'ANGOSTURA',\n",
       "       'POLICARPA', 'SANTA BARBARA', 'TUMACO', 'CALDONO', 'ARGELIA',\n",
       "       'PUERTO TRIUNFO', 'TELLO', 'ARAUCA', 'EL CASTILLO', 'EL DORADO',\n",
       "       'ARENAL', 'PASCA', 'GUAMAL', 'IPIALES', 'SIMITI', 'CUBARRAL',\n",
       "       'CAMPOALEGRE', 'AMALFI', 'SACAMA', 'CUMBITARA',\n",
       "       'CARTAGENA DEL CHAIRA', 'VEGACHI', 'MILAN', 'LA MACARENA',\n",
       "       'RONCESVALLES', 'SARDINATA', 'BELEN DE LOS ANDAQUIES',\n",
       "       'PUERTO GUZMAN', 'CAMPAMENTO', 'TOLEDO', 'ORITO', 'SARAVENA',\n",
       "       'LA LLANADA', 'SAN FRANCISCO', 'MONTELIBANO', 'EL MOLINO',\n",
       "       'NORCASIA', 'LANDAZURI', 'LITORAL DEL SAN JUAN', 'HERRAN',\n",
       "       'PALMIRA', 'LA SIERRA', 'PINILLOS', 'GARZON', 'SAMANA', 'SONSON',\n",
       "       'ROVIRA', 'PEQUE', 'MAGUI', 'EL CHARCO', 'ZARAGOZA', 'CAUCASIA',\n",
       "       'SAN JACINTO DEL CAUCA', 'CURUMANI', 'FONSECA', 'Bogota DC',\n",
       "       'BUENOS AIRES', 'ZAMBRANO', 'EL PAUJIL', 'LA JAGUA DE IBIRICO',\n",
       "       'RIOSUCIO', 'SAN RAFAEL', 'PACORA', 'CHIRIGUANA', 'EL CERRITO',\n",
       "       'SAN ANTONIO', 'EL DONCELLO', 'SANTA MARTA', 'LABATECA', 'COCORNA',\n",
       "       'FORTUL', 'CISNEROS', 'VILLAVICENCIO', 'CHIGORODO', 'TIQUISIO',\n",
       "       'TURBO', 'PAEZ', 'OVEJAS', 'NECHI', 'CALIFORNIA', 'PELAYA',\n",
       "       'URUMITA', 'PIJAO', 'DAGUA', 'SEGOVIA', 'MIRANDA', 'DOLORES',\n",
       "       'VILLARRICA', 'BUENAVENTURA', 'ICONONZO', 'AGUACHICA', 'MUTATA',\n",
       "       'FRONTINO', 'SAN JOSE DEL PALMAR', 'CAREPA', 'EL CARMEN',\n",
       "       'VILLANUEVA', 'EL PENON', 'PIEDECUESTA', 'BARRANCABERMEJA',\n",
       "       'GALAN', 'NARINO', 'CHITA', 'SUCRE', 'MORALES',\n",
       "       'SAN VICENTE DE CHUCURI', 'MATANZA', 'MANZANARES', 'PATIA',\n",
       "       'QUIBDO', 'CABRERA', 'BUCARAMANGA', 'TIMBIO', 'YARUMAL', 'CORDOBA',\n",
       "       'MALLAMA', 'CHAPARRAL', 'ROBERTO PAYAN', 'OCANA', 'CURILLO',\n",
       "       'CALIMA', 'OTANCHE', 'MARULANDA', 'MAJAGUAL', 'LABRANZAGRANDE',\n",
       "       'LA PALMA', 'FOMEQUE', 'SAN SEBASTIAN', 'VALPARAISO', 'ORTEGA',\n",
       "       'EL CARMEN DEL ATRATO', 'SANTIAGO', 'MURINDO', 'TOPAIPI',\n",
       "       'POPAYAN', 'UTICA', 'BECERRIL', 'LA BELLEZA', 'LA JAGUA DEL PILAR',\n",
       "       'CARMEN DE VIBORAL', 'GUATAPE', 'VILLAHERMOSA', 'PENSILVANIA',\n",
       "       'PAJARITO', 'GUAYABAL DE SIQUIMA', 'ABEJORRAL', 'YOLOMBO',\n",
       "       'CIMITARRA', 'ALEJANDRIA', 'ARBOLEDAS', 'BUGA', 'YONDO',\n",
       "       'SAN JUANITO', 'REMEDIOS', 'CANASGORDAS', 'SALAMINA', 'LA PENA',\n",
       "       'BARRANCOMINAS', 'SUAZA', 'LA VEGA', 'RIONEGRO', 'TAURAMENA',\n",
       "       'CONCEPCION', 'LA CUMBRE', 'SESQUILE', 'INZA', 'ACEVEDO', 'YOPAL',\n",
       "       'UNE', 'CARAMANTA', 'CRAVO NORTE', 'CURITI',\n",
       "       'SANTANDER DE QUILICHAO', 'SANTUARIO', 'HATO COROZAL', 'HERVEO',\n",
       "       'SALAZAR', 'PUEBLO BELLO', 'TOTORO', 'MONTENEGRO', 'VILLAGARZON',\n",
       "       'SAN JACINTO', 'SANTO DOMINGO', 'EL ZULIA', 'SILVIA',\n",
       "       'AGUSTIN CODAZZI', 'NOVITA', 'DUITAMA', 'MORELIA', 'TASCO',\n",
       "       'MONTECRISTO', 'BOLIVAR', 'SANTA ROSA DE OSOS', 'PENOL', 'GIRON',\n",
       "       'AGUADAS', 'ANZOATEGUI', 'AQUITANIA', 'EL COCUY', 'PUERTO GAITAN',\n",
       "       'CALI', 'CARTAGENA DE INDIAS', 'BUCARASICA', 'GUTIERREZ', 'PRADO',\n",
       "       'SURATA', 'SAN BERNARDO', 'SAN JUAN NEPOMUCENO', 'EL CALVARIO',\n",
       "       'CAJAMARCA', 'SIMACOTA', 'JAMBALO', 'DIBULLA', 'PIENDAMO',\n",
       "       'JARDIN', 'ACACIAS', 'FUNDACION', 'CHAGUANI', 'EL COPEY',\n",
       "       'CHAMEZA', 'ATACO', 'CIENAGA', 'JURADO', 'VILLAGOMEZ', 'GIGANTE',\n",
       "       'DURANIA', 'ALBAN', 'PISBA', 'PAUNA', 'PURACE', 'CAJIBIO',\n",
       "       'PUERTO LLERAS', 'CUCUTA', 'CHALAN', 'BAGADO', 'LA CRUZ',\n",
       "       'SAN LORENZO', 'GUADUAS', 'MISTRATO', 'LA DORADA', 'PULI', 'YALI',\n",
       "       'LINARES', 'CACHIRA', 'MANIZALES', 'ZAPATOCA', 'SUPIA', 'MOCOA',\n",
       "       'TADO', 'LERIDA', 'CARACOLI', 'NATAGAIMA', 'REGIDOR', 'UNGUIA',\n",
       "       'HATO', 'CHOCONTA', 'ACHI', 'PUERTO CONCORDIA',\n",
       "       'SANTA FE ANTIOQUIA', 'GACHETA', 'CHISCAS', 'MONTEBELLO',\n",
       "       'GUAYABETAL', 'VENADILLO', 'PUERTO WILCHES', 'VIANI', 'SUAITA',\n",
       "       'MACHETA', 'BAHIA SOLANO', 'QUETAME', 'CHARTA', 'BELLO', 'VELEZ',\n",
       "       'BARRANQUILLA', 'QUINCHIA', 'ALVARADO', 'LA ESTRELLA', 'BOJAYA',\n",
       "       'QUEBRADANEGRA', 'EL PLAYON', 'ARACATACA', 'SOLITA', 'TUQUERRES',\n",
       "       'PLATO', 'RIOVIEJO', 'SAN VICENTE', 'PEREIRA', 'GAMA', 'SEVILLA',\n",
       "       'GENOVA', 'RIOFRIO', 'LIBANO', 'COLOSO', 'EL GUAMO', 'MACARAVITA',\n",
       "       'IBAGUE', 'SAN MARTIN DE LOBA', 'NILO', 'SAN ROQUE', 'LA UNION',\n",
       "       'TAMARA', 'SAN ONOFRE', 'PUERTO CARRENO', 'ANSERMA',\n",
       "       'SABANAGRANDE', 'SAN MARTIN', 'LA SALINA', 'PAILITAS',\n",
       "       'VILLAPINZON', 'ALMAGUER', 'BURITICA', 'GUATICA', 'GARAGOA',\n",
       "       'SAN JUAN DEL CESAR', 'LEBRIJA', 'BELALCAZAR', 'BARRANCO DE LOBA',\n",
       "       'SASAIMA', 'PUEBLO RICO', 'COLON', 'CAQUEZA', 'PANDI',\n",
       "       'SAN JUAN DE RIOSECO', 'CAPARRAPI', 'GALERAS', 'EL AGUILA',\n",
       "       'JAMUNDI', 'CUMBAL', 'SAN JERONIMO', 'LA PLATA', 'LOS PALMITOS',\n",
       "       'TAMESIS', 'GUARNE', 'MORROA', 'PITALITO', 'PUERTO BERRIO',\n",
       "       'SOCORRO', 'COYAIMA', 'MONTERIA', 'ABRIAQUI', 'GOMEZ PLATA',\n",
       "       'VERGARA', 'ANZA', 'FUENTE DE ORO', 'INIRIDA', 'RESTREPO',\n",
       "       'SAN ALBERTO', 'LA ARGENTINA', 'BELTRAN', 'LIBORINA',\n",
       "       'SANTA ROSA DE CABAL', 'PAYA', 'SAN EDUARDO', 'GUATAVITA',\n",
       "       'SOGAMOSO', 'GUARANDA', 'QUIPAMA', 'BELEN', 'MEDIO ATRATO',\n",
       "       'LLORO', 'EL ROSARIO', 'COROZAL', 'GUACARI', 'SANTA MARIA',\n",
       "       'LEIVA', 'CHIPAQUE', 'SABANALARGA', 'MANAURE BALCON DEL CESAR',\n",
       "       'NUQUI', 'ALBANIA', 'SIPI', 'CaRDOBA', 'CERTEGUI', 'SANDONA',\n",
       "       'MERCADERES', 'RIVERA', 'ISTMINA', 'BELEN DE UMBRIA', 'CUBARA',\n",
       "       'ACANDI', 'PUERTO SANTANDER', 'ALTO BAUDO', 'LA PAZ', 'FILADELFIA',\n",
       "       'ZONA BANANERA', 'RIO IRO', 'MACEO', 'NOROSI', 'SAN JUAN DE URABA',\n",
       "       'EL CANTON DEL SAN PABLO', 'RIO QUITO', 'BAJO BAUDO', 'IQUIRA',\n",
       "       'PIAMONTE', 'OLAYA HERRERA', 'MEDIO SAN JUAN', 'MEDIO BAUDO',\n",
       "       'GUAPI', 'PINCHOTE', 'EL DOVIO'], dtype=object)"
      ]
     },
     "execution_count": 41,
     "metadata": {},
     "output_type": "execute_result"
    }
   ],
   "source": [
    "registro_map_limpia['municipio'].unique()"
   ]
  },
  {
   "cell_type": "code",
   "execution_count": 42,
   "metadata": {},
   "outputs": [
    {
     "data": {
      "text/plain": [
       "array(['Sin informacion', 'Vereda Santa Lucia', 'Quebrada Iraca', ...,\n",
       "       'VEREDA SAN JOSE LOS ROBLES', 'VEREDA EL ASUAY',\n",
       "       'RESGUARDO DE VEGAS CHAGUI  CHIMBUZA'], dtype=object)"
      ]
     },
     "execution_count": 42,
     "metadata": {},
     "output_type": "execute_result"
    }
   ],
   "source": [
    "registro_map_limpia['sitio'].unique()"
   ]
  },
  {
   "cell_type": "code",
   "execution_count": 73,
   "metadata": {},
   "outputs": [
    {
     "data": {
      "text/plain": [
       "array([ 1, 12,  4, 11,  3,  8,  7, 10,  9,  2,  5,  6], dtype=int64)"
      ]
     },
     "execution_count": 73,
     "metadata": {},
     "output_type": "execute_result"
    }
   ],
   "source": [
    "registro_map_limpia['mes'].unique()"
   ]
  },
  {
   "cell_type": "code",
   "execution_count": 43,
   "metadata": {},
   "outputs": [
    {
     "data": {
      "text/plain": [
       "array(['Mayor de 18 anos', 'Menor de 18 anos'], dtype=object)"
      ]
     },
     "execution_count": 43,
     "metadata": {},
     "output_type": "execute_result"
    }
   ],
   "source": [
    "registro_map_limpia['rangoedad'].unique()"
   ]
  },
  {
   "cell_type": "code",
   "execution_count": 44,
   "metadata": {},
   "outputs": [
    {
     "data": {
      "text/plain": [
       "array(['Civil', 'Fuerza publica'], dtype=object)"
      ]
     },
     "execution_count": 44,
     "metadata": {},
     "output_type": "execute_result"
    }
   ],
   "source": [
    "registro_map_limpia['condicion'].unique()"
   ]
  },
  {
   "cell_type": "code",
   "execution_count": 45,
   "metadata": {},
   "outputs": [
    {
     "data": {
      "text/plain": [
       "array(['Hombre', 'Mujer', 'Sin Informacion'], dtype=object)"
      ]
     },
     "execution_count": 45,
     "metadata": {},
     "output_type": "execute_result"
    }
   ],
   "source": [
    "registro_map_limpia['estado'].unique()"
   ]
  },
  {
   "cell_type": "code",
   "execution_count": 46,
   "metadata": {},
   "outputs": [
    {
     "data": {
      "text/plain": [
       "array(['Herido', 'Muerto'], dtype=object)"
      ]
     },
     "execution_count": 46,
     "metadata": {},
     "output_type": "execute_result"
    }
   ],
   "source": [
    "registro_map_limpia['genero'].unique()"
   ]
  },
  {
   "cell_type": "code",
   "execution_count": 47,
   "metadata": {},
   "outputs": [
    {
     "data": {
      "text/plain": [
       "array(['Sin informacion', 'En cerca a edificio residencial', 'Caminos',\n",
       "       'Cerros', 'en sobre cerca rivera de un rio', 'Canos', 'Quebradas',\n",
       "       'Sendero', 'Viviendas abandonadas', 'Campo', 'Fincas', 'Puentes',\n",
       "       'Campamentos ilegales', 'Infraestructura de comunicaciones',\n",
       "       'Carretera', 'Oleoductos', 'En cerca instalacion militar',\n",
       "       'Borde de la carretera', 'Escuelas', 'Infra torres electricas',\n",
       "       'Centro de salud', 'Infra gaseoducto',\n",
       "       'Centros deportivos recreacion', 'En cerca edificio gubernamental'],\n",
       "      dtype=object)"
      ]
     },
     "execution_count": 47,
     "metadata": {},
     "output_type": "execute_result"
    }
   ],
   "source": [
    "registro_map_limpia['tipoevento'].unique()"
   ]
  },
  {
   "cell_type": "code",
   "execution_count": 48,
   "metadata": {},
   "outputs": [
    {
     "data": {
      "text/plain": [
       "array(['Pasando estando cerca', 'Erradicador manual  PCI',\n",
       "       'Fuerza publica', 'Sin Informacion', 'Transito por via usual',\n",
       "       'Cuidado de animales', 'Trabajos de casa',\n",
       "       'Transito por trocha atajo', 'Otra', 'Agricultura',\n",
       "       'Recogiendo comida agua o  madera',\n",
       "       'Erradicacion de cultivos ilicitos', 'Jugando', 'Caza pesca',\n",
       "       'Viajando', 'Manipulacion', 'Labores de desminado',\n",
       "       'Mantenimiento de infraestructura', 'Actividades fuerza publica',\n",
       "       'Labores de rescate', 'Erradicacion  PONAL'], dtype=object)"
      ]
     },
     "execution_count": 48,
     "metadata": {},
     "output_type": "execute_result"
    }
   ],
   "source": [
    "registro_map_limpia['Actividad'].unique()"
   ]
  },
  {
   "cell_type": "markdown",
   "metadata": {},
   "source": [
    "En el anterior punto se observo que las columnas \"estado\" y \"genero\" se encuentran intercambiadas, se procede hacer la corrección pertinente cambiado el nombre de cada variable. "
   ]
  },
  {
   "cell_type": "code",
   "execution_count": 49,
   "metadata": {},
   "outputs": [
    {
     "data": {
      "text/html": [
       "<div>\n",
       "<style scoped>\n",
       "    .dataframe tbody tr th:only-of-type {\n",
       "        vertical-align: middle;\n",
       "    }\n",
       "\n",
       "    .dataframe tbody tr th {\n",
       "        vertical-align: top;\n",
       "    }\n",
       "\n",
       "    .dataframe thead th {\n",
       "        text-align: right;\n",
       "    }\n",
       "</style>\n",
       "<table border=\"1\" class=\"dataframe\">\n",
       "  <thead>\n",
       "    <tr style=\"text-align: right;\">\n",
       "      <th></th>\n",
       "      <th>departamento</th>\n",
       "      <th>codigodanedepartamento</th>\n",
       "      <th>municipio</th>\n",
       "      <th>codigodanemunicipio</th>\n",
       "      <th>tipoarea</th>\n",
       "      <th>sitio</th>\n",
       "      <th>anio</th>\n",
       "      <th>mes</th>\n",
       "      <th>rangoedad</th>\n",
       "      <th>grupoetnico</th>\n",
       "      <th>condicion</th>\n",
       "      <th>genero</th>\n",
       "      <th>estado</th>\n",
       "      <th>latitudcabecera</th>\n",
       "      <th>longitudcabecera</th>\n",
       "      <th>tipoevento</th>\n",
       "      <th>Ubicación</th>\n",
       "      <th>Actividad</th>\n",
       "    </tr>\n",
       "  </thead>\n",
       "  <tbody>\n",
       "    <tr>\n",
       "      <th>0</th>\n",
       "      <td>ANTIOQUIA</td>\n",
       "      <td>5</td>\n",
       "      <td>GRANADA</td>\n",
       "      <td>5313</td>\n",
       "      <td>Rural</td>\n",
       "      <td>Sin informacion</td>\n",
       "      <td>2006</td>\n",
       "      <td>1</td>\n",
       "      <td>Mayor de 18 anos</td>\n",
       "      <td>No</td>\n",
       "      <td>Civil</td>\n",
       "      <td>Hombre</td>\n",
       "      <td>Herido</td>\n",
       "      <td>6143703</td>\n",
       "      <td>75185183</td>\n",
       "      <td>Sin informacion</td>\n",
       "      <td>6143703 75185183</td>\n",
       "      <td>Pasando estando cerca</td>\n",
       "    </tr>\n",
       "    <tr>\n",
       "      <th>1</th>\n",
       "      <td>CAQUETA</td>\n",
       "      <td>18</td>\n",
       "      <td>MONTANITA</td>\n",
       "      <td>18410</td>\n",
       "      <td>Rural</td>\n",
       "      <td>Sin informacion</td>\n",
       "      <td>2009</td>\n",
       "      <td>12</td>\n",
       "      <td>Mayor de 18 anos</td>\n",
       "      <td>No</td>\n",
       "      <td>Civil</td>\n",
       "      <td>Hombre</td>\n",
       "      <td>Herido</td>\n",
       "      <td>149494421255</td>\n",
       "      <td>754630895064</td>\n",
       "      <td>Sin informacion</td>\n",
       "      <td>149494421255 754630895064</td>\n",
       "      <td>Erradicador manual  PCI</td>\n",
       "    </tr>\n",
       "    <tr>\n",
       "      <th>2</th>\n",
       "      <td>PUTUMAYO</td>\n",
       "      <td>86</td>\n",
       "      <td>PUERTO ASIS</td>\n",
       "      <td>86568</td>\n",
       "      <td>Rural</td>\n",
       "      <td>Sin informacion</td>\n",
       "      <td>2008</td>\n",
       "      <td>4</td>\n",
       "      <td>Mayor de 18 anos</td>\n",
       "      <td>No</td>\n",
       "      <td>Civil</td>\n",
       "      <td>Hombre</td>\n",
       "      <td>Muerto</td>\n",
       "      <td>0502569</td>\n",
       "      <td>7649818</td>\n",
       "      <td>Sin informacion</td>\n",
       "      <td>0502569 7649818</td>\n",
       "      <td>Erradicador manual  PCI</td>\n",
       "    </tr>\n",
       "    <tr>\n",
       "      <th>3</th>\n",
       "      <td>CORDOBA</td>\n",
       "      <td>23</td>\n",
       "      <td>PUERTO LIBERTADOR</td>\n",
       "      <td>23580</td>\n",
       "      <td>Rural</td>\n",
       "      <td>Sin informacion</td>\n",
       "      <td>2009</td>\n",
       "      <td>11</td>\n",
       "      <td>Mayor de 18 anos</td>\n",
       "      <td>No</td>\n",
       "      <td>Civil</td>\n",
       "      <td>Hombre</td>\n",
       "      <td>Herido</td>\n",
       "      <td>7883545</td>\n",
       "      <td>75670508</td>\n",
       "      <td>Sin informacion</td>\n",
       "      <td>7883545 75670508</td>\n",
       "      <td>Erradicador manual  PCI</td>\n",
       "    </tr>\n",
       "    <tr>\n",
       "      <th>4</th>\n",
       "      <td>CORDOBA</td>\n",
       "      <td>23</td>\n",
       "      <td>PUERTO LIBERTADOR</td>\n",
       "      <td>23580</td>\n",
       "      <td>Rural</td>\n",
       "      <td>Sin informacion</td>\n",
       "      <td>2009</td>\n",
       "      <td>11</td>\n",
       "      <td>Mayor de 18 anos</td>\n",
       "      <td>No</td>\n",
       "      <td>Civil</td>\n",
       "      <td>Hombre</td>\n",
       "      <td>Herido</td>\n",
       "      <td>7883545</td>\n",
       "      <td>75670508</td>\n",
       "      <td>Sin informacion</td>\n",
       "      <td>7883545 75670508</td>\n",
       "      <td>Erradicador manual  PCI</td>\n",
       "    </tr>\n",
       "  </tbody>\n",
       "</table>\n",
       "</div>"
      ],
      "text/plain": [
       "  departamento codigodanedepartamento          municipio codigodanemunicipio  \\\n",
       "0    ANTIOQUIA                      5            GRANADA                5313   \n",
       "1      CAQUETA                     18          MONTANITA               18410   \n",
       "2     PUTUMAYO                     86        PUERTO ASIS               86568   \n",
       "3      CORDOBA                     23  PUERTO LIBERTADOR               23580   \n",
       "4      CORDOBA                     23  PUERTO LIBERTADOR               23580   \n",
       "\n",
       "  tipoarea            sitio  anio mes         rangoedad grupoetnico condicion  \\\n",
       "0    Rural  Sin informacion  2006   1  Mayor de 18 anos          No     Civil   \n",
       "1    Rural  Sin informacion  2009  12  Mayor de 18 anos          No     Civil   \n",
       "2    Rural  Sin informacion  2008   4  Mayor de 18 anos          No     Civil   \n",
       "3    Rural  Sin informacion  2009  11  Mayor de 18 anos          No     Civil   \n",
       "4    Rural  Sin informacion  2009  11  Mayor de 18 anos          No     Civil   \n",
       "\n",
       "   genero  estado latitudcabecera longitudcabecera       tipoevento  \\\n",
       "0  Hombre  Herido         6143703         75185183  Sin informacion   \n",
       "1  Hombre  Herido    149494421255     754630895064  Sin informacion   \n",
       "2  Hombre  Muerto         0502569          7649818  Sin informacion   \n",
       "3  Hombre  Herido         7883545         75670508  Sin informacion   \n",
       "4  Hombre  Herido         7883545         75670508  Sin informacion   \n",
       "\n",
       "                   Ubicación                Actividad  \n",
       "0           6143703 75185183    Pasando estando cerca  \n",
       "1  149494421255 754630895064  Erradicador manual  PCI  \n",
       "2            0502569 7649818  Erradicador manual  PCI  \n",
       "3           7883545 75670508  Erradicador manual  PCI  \n",
       "4           7883545 75670508  Erradicador manual  PCI  "
      ]
     },
     "execution_count": 49,
     "metadata": {},
     "output_type": "execute_result"
    }
   ],
   "source": [
    "registro_map_limpia.rename(columns={'estado': 'genero_'}, inplace=True)\n",
    "registro_map_limpia.rename(columns={'genero': 'estado'}, inplace=True)\n",
    "registro_map_limpia.rename(columns={'genero_': 'genero'}, inplace=True)\n",
    "registro_map_limpia.rename(columns={'ano': 'anio'}, inplace=True)\n",
    "registro_map_limpia.head()"
   ]
  },
  {
   "cell_type": "markdown",
   "metadata": {},
   "source": [
    "Los datos de la columna año se encuentran como tipo object lo que puede dificultar trabajar poteriormente con estos, por lo cual se pasan como tipo de dato de tiempo."
   ]
  },
  {
   "cell_type": "code",
   "execution_count": null,
   "metadata": {},
   "outputs": [],
   "source": [
    "registro_map_limpia['anio'] =  pd.to_datetime(registro_map_limpia['anio'])"
   ]
  },
  {
   "cell_type": "markdown",
   "metadata": {},
   "source": [
    "Debido a que los datos de la columna \"mes\" pueden existir algunos string, nos aseguramos de que 'mes' sea numérico (si no lo es, se conviérte)"
   ]
  },
  {
   "cell_type": "code",
   "execution_count": 149,
   "metadata": {},
   "outputs": [],
   "source": [
    "registro_map_limpia['mes'] = pd.to_numeric(registro_map_limpia['mes'], errors='coerce')"
   ]
  },
  {
   "cell_type": "markdown",
   "metadata": {},
   "source": [
    "## **3- Reporte de resultados.**"
   ]
  },
  {
   "cell_type": "markdown",
   "metadata": {},
   "source": [
    "Se presenta el resultados de los reportes siguientes sobre las víctimas:\n",
    "\n",
    "- total víctimas por año\n",
    "- total víctimas por mes (Independiente del año)\n",
    "- total víctimas por departamento\n",
    "- total víctimas por actividad\n",
    "- total de víctimas por género\n",
    "- total de víctimas por estado"
   ]
  },
  {
   "cell_type": "markdown",
   "metadata": {},
   "source": [
    "### **3.1- Total víctimas por año.**"
   ]
  },
  {
   "cell_type": "code",
   "execution_count": 61,
   "metadata": {},
   "outputs": [
    {
     "data": {
      "text/plain": [
       "anio\n",
       "1984       1\n",
       "1990      23\n",
       "1991      70\n",
       "1992     153\n",
       "1993      88\n",
       "1994      86\n",
       "1995     130\n",
       "1996     120\n",
       "1997      96\n",
       "1998      59\n",
       "1999      54\n",
       "2000     141\n",
       "2001     299\n",
       "2002     631\n",
       "2003     760\n",
       "2004     900\n",
       "2005    1176\n",
       "2006    1224\n",
       "2007     980\n",
       "2008     851\n",
       "2009     771\n",
       "2010     679\n",
       "2011     564\n",
       "2012     589\n",
       "2013     427\n",
       "2014     293\n",
       "2015     223\n",
       "2016      90\n",
       "2017      59\n",
       "2018     179\n",
       "2019     117\n",
       "2020     176\n",
       "2021     157\n",
       "2022     139\n",
       "2023      59\n",
       "Name: count, dtype: int64"
      ]
     },
     "execution_count": 61,
     "metadata": {},
     "output_type": "execute_result"
    }
   ],
   "source": [
    "total_victimas_x_anio = pd.DataFrame(registro_map_limpia['anio'])\n",
    "total_victimas_x_anio['anio'] = pd.to_datetime(total_victimas_x_anio['anio']).dt.year\n",
    "total_victimas_x_anio = total_victimas_x_anio['anio'].value_counts().sort_index()\n",
    "total_victimas_x_anio"
   ]
  },
  {
   "cell_type": "code",
   "execution_count": 56,
   "metadata": {},
   "outputs": [
    {
     "data": {
      "text/plain": [
       "Text(0.5, 1.0, 'Total de victimas por año')"
      ]
     },
     "execution_count": 56,
     "metadata": {},
     "output_type": "execute_result"
    },
    {
     "data": {
      "image/png": "[encoded data removed]",
      "text/plain": [
       "<Figure size 640x480 with 1 Axes>"
      ]
     },
     "metadata": {},
     "output_type": "display_data"
    }
   ],
   "source": [
    "total_victimas_x_anio.plot(kind='bar')\n",
    "plt.xlabel('Año')\n",
    "plt.ylabel('Victimas por año')\n",
    "plt.title('Total de victimas por año')"
   ]
  },
  {
   "cell_type": "markdown",
   "metadata": {},
   "source": [
    "De acuerdo con el informe y la gráfica de barras, se evidencia un aumento en el número de víctimas por minas antipersona desde el año 1990. Este aumento alcanzó su punto máximo en el año 2006, con un total de 1,224 víctimas registradas. A partir de ese año, se observa una disminución progresiva en el número de víctimas."
   ]
  },
  {
   "cell_type": "markdown",
   "metadata": {},
   "source": [
    "### **3.2 - Total víctimas por mes (Independiente del año).**"
   ]
  },
  {
   "cell_type": "code",
   "execution_count": 279,
   "metadata": {},
   "outputs": [
    {
     "data": {
      "text/html": [
       "<div>\n",
       "<style scoped>\n",
       "    .dataframe tbody tr th:only-of-type {\n",
       "        vertical-align: middle;\n",
       "    }\n",
       "\n",
       "    .dataframe tbody tr th {\n",
       "        vertical-align: top;\n",
       "    }\n",
       "\n",
       "    .dataframe thead th {\n",
       "        text-align: right;\n",
       "    }\n",
       "</style>\n",
       "<table border=\"1\" class=\"dataframe\">\n",
       "  <thead>\n",
       "    <tr style=\"text-align: right;\">\n",
       "      <th></th>\n",
       "      <th>mes</th>\n",
       "      <th>cant_víctimas</th>\n",
       "    </tr>\n",
       "  </thead>\n",
       "  <tbody>\n",
       "    <tr>\n",
       "      <th>9</th>\n",
       "      <td>January</td>\n",
       "      <td>911</td>\n",
       "    </tr>\n",
       "    <tr>\n",
       "      <th>1</th>\n",
       "      <td>February</td>\n",
       "      <td>1255</td>\n",
       "    </tr>\n",
       "    <tr>\n",
       "      <th>0</th>\n",
       "      <td>March</td>\n",
       "      <td>1318</td>\n",
       "    </tr>\n",
       "    <tr>\n",
       "      <th>2</th>\n",
       "      <td>April</td>\n",
       "      <td>1124</td>\n",
       "    </tr>\n",
       "    <tr>\n",
       "      <th>3</th>\n",
       "      <td>May</td>\n",
       "      <td>1120</td>\n",
       "    </tr>\n",
       "    <tr>\n",
       "      <th>4</th>\n",
       "      <td>June</td>\n",
       "      <td>1093</td>\n",
       "    </tr>\n",
       "    <tr>\n",
       "      <th>7</th>\n",
       "      <td>July</td>\n",
       "      <td>1008</td>\n",
       "    </tr>\n",
       "    <tr>\n",
       "      <th>5</th>\n",
       "      <td>August</td>\n",
       "      <td>1054</td>\n",
       "    </tr>\n",
       "    <tr>\n",
       "      <th>8</th>\n",
       "      <td>September</td>\n",
       "      <td>930</td>\n",
       "    </tr>\n",
       "    <tr>\n",
       "      <th>6</th>\n",
       "      <td>October</td>\n",
       "      <td>1018</td>\n",
       "    </tr>\n",
       "    <tr>\n",
       "      <th>10</th>\n",
       "      <td>November</td>\n",
       "      <td>840</td>\n",
       "    </tr>\n",
       "    <tr>\n",
       "      <th>11</th>\n",
       "      <td>December</td>\n",
       "      <td>693</td>\n",
       "    </tr>\n",
       "  </tbody>\n",
       "</table>\n",
       "</div>"
      ],
      "text/plain": [
       "          mes  cant_víctimas\n",
       "9     January            911\n",
       "1    February           1255\n",
       "0       March           1318\n",
       "2       April           1124\n",
       "3         May           1120\n",
       "4        June           1093\n",
       "7        July           1008\n",
       "5      August           1054\n",
       "8   September            930\n",
       "6     October           1018\n",
       "10   November            840\n",
       "11   December            693"
      ]
     },
     "execution_count": 279,
     "metadata": {},
     "output_type": "execute_result"
    }
   ],
   "source": [
    "total_victimas_x_mes = pd.DataFrame(registro_map_limpia['mes'].value_counts()).reset_index()\n",
    "total_victimas_x_mes.columns = ['mes', 'cant_víctimas']\n",
    "total_victimas_x_mes['mes'] = total_victimas_x_mes['mes'].astype(int).apply(lambda x: calendar.month_name[x])\n",
    "meses_ordenados = [calendar.month_name[i] for i in range(1, 13)] \n",
    "total_victimas_x_mes['mes'] = pd.Categorical(total_victimas_x_mes['mes'], categories=meses_ordenados, ordered=True)\n",
    "total_victimas_x_mes = total_victimas_x_mes.sort_values(by='mes')\n",
    "total_victimas_x_mes"
   ]
  },
  {
   "cell_type": "code",
   "execution_count": 286,
   "metadata": {},
   "outputs": [
    {
     "data": {
      "text/plain": [
       "Text(0.5, 1.0, 'Total de víctimas de minas antipersonas por mes')"
      ]
     },
     "execution_count": 286,
     "metadata": {},
     "output_type": "execute_result"
    },
    {
     "data": {
      "image/png": "[encoded data removed]",
      "text/plain": [
       "<Figure size 1200x500 with 1 Axes>"
      ]
     },
     "metadata": {},
     "output_type": "display_data"
    }
   ],
   "source": [
    "sns.set_style('darkgrid')\n",
    "plt.figure(figsize=(12,5))\n",
    "sns.barplot(x='mes', y='cant_víctimas', data = total_victimas_x_mes)\n",
    "plt.xticks( rotation=0)\n",
    "plt.title('Total de víctimas de minas antipersonas por mes')"
   ]
  },
  {
   "cell_type": "markdown",
   "metadata": {},
   "source": [
    "### **3.3 - Total víctimas por departamento.**"
   ]
  },
  {
   "cell_type": "code",
   "execution_count": 191,
   "metadata": {},
   "outputs": [
    {
     "data": {
      "text/plain": [
       "departamento\n",
       "ANTIOQUIA             2658\n",
       "META                  1152\n",
       "NARINO                1115\n",
       "NORTE DE SANTANDER     970\n",
       "CAQUETA                946\n",
       "CAUCA                  662\n",
       "ARAUCA                 656\n",
       "BOLIVAR                645\n",
       "TOLIMA                 539\n",
       "PUTUMAYO               459\n",
       "SANTANDER              297\n",
       "CORDOBA                283\n",
       "VALLE DEL CAUCA        271\n",
       "GUAVIARE               267\n",
       "HUILA                  239\n",
       "CHOCO                  230\n",
       "CALDAS                 170\n",
       "CESAR                  156\n",
       "CUNDINAMARCA           141\n",
       "CASANARE                90\n",
       "SUCRE                   78\n",
       "BOYACA                  78\n",
       "LA GUAJIRA              60\n",
       "MAGDALENA               46\n",
       "VAUPES                  44\n",
       "BOGOTA DC               30\n",
       "QUINDIO                 28\n",
       "RISARALDA               22\n",
       "VICHADA                 17\n",
       "ATLANTICO                8\n",
       "AMAZONAS                 4\n",
       "GUAINIA                  3\n",
       "Name: count, dtype: int64"
      ]
     },
     "execution_count": 191,
     "metadata": {},
     "output_type": "execute_result"
    }
   ],
   "source": [
    "total_victimas_x_dept = pd.DataFrame(registro_map_limpia['departamento'])\n",
    "total_victimas_x_dept = total_victimas_x_dept['departamento'].value_counts()\n",
    "total_victimas_x_dept"
   ]
  },
  {
   "cell_type": "code",
   "execution_count": 284,
   "metadata": {},
   "outputs": [
    {
     "data": {
      "text/plain": [
       "Text(0.5, 1.0, 'Total de victimas por departamento')"
      ]
     },
     "execution_count": 284,
     "metadata": {},
     "output_type": "execute_result"
    },
    {
     "data": {
      "image/png": "[encoded data removed]",
      "text/plain": [
       "<Figure size 640x480 with 1 Axes>"
      ]
     },
     "metadata": {},
     "output_type": "display_data"
    }
   ],
   "source": [
    "total_victimas_x_dept.plot(kind='barh')\n",
    "plt.xlabel('Departamento')\n",
    "plt.ylabel('Número de Victimas')\n",
    "plt.title('Total de victimas por departamento')"
   ]
  },
  {
   "cell_type": "markdown",
   "metadata": {},
   "source": [
    "### **3.4 - Total víctimas por actividad.**"
   ]
  },
  {
   "cell_type": "code",
   "execution_count": 217,
   "metadata": {},
   "outputs": [
    {
     "data": {
      "text/html": [
       "<div>\n",
       "<style scoped>\n",
       "    .dataframe tbody tr th:only-of-type {\n",
       "        vertical-align: middle;\n",
       "    }\n",
       "\n",
       "    .dataframe tbody tr th {\n",
       "        vertical-align: top;\n",
       "    }\n",
       "\n",
       "    .dataframe thead th {\n",
       "        text-align: right;\n",
       "    }\n",
       "</style>\n",
       "<table border=\"1\" class=\"dataframe\">\n",
       "  <thead>\n",
       "    <tr style=\"text-align: right;\">\n",
       "      <th></th>\n",
       "      <th>count</th>\n",
       "    </tr>\n",
       "    <tr>\n",
       "      <th>Actividad</th>\n",
       "      <th></th>\n",
       "    </tr>\n",
       "  </thead>\n",
       "  <tbody>\n",
       "    <tr>\n",
       "      <th>Fuerza publica</th>\n",
       "      <td>6913</td>\n",
       "    </tr>\n",
       "    <tr>\n",
       "      <th>Sin Informacion</th>\n",
       "      <td>2108</td>\n",
       "    </tr>\n",
       "    <tr>\n",
       "      <th>Pasando estando cerca</th>\n",
       "      <td>1112</td>\n",
       "    </tr>\n",
       "    <tr>\n",
       "      <th>Agricultura</th>\n",
       "      <td>366</td>\n",
       "    </tr>\n",
       "    <tr>\n",
       "      <th>Erradicador manual  PCI</th>\n",
       "      <td>360</td>\n",
       "    </tr>\n",
       "    <tr>\n",
       "      <th>Actividades fuerza publica</th>\n",
       "      <td>254</td>\n",
       "    </tr>\n",
       "    <tr>\n",
       "      <th>Manipulacion</th>\n",
       "      <td>192</td>\n",
       "    </tr>\n",
       "    <tr>\n",
       "      <th>Transito por via usual</th>\n",
       "      <td>187</td>\n",
       "    </tr>\n",
       "    <tr>\n",
       "      <th>Recogiendo comida agua o  madera</th>\n",
       "      <td>180</td>\n",
       "    </tr>\n",
       "    <tr>\n",
       "      <th>Jugando</th>\n",
       "      <td>136</td>\n",
       "    </tr>\n",
       "    <tr>\n",
       "      <th>Erradicacion de cultivos ilicitos</th>\n",
       "      <td>118</td>\n",
       "    </tr>\n",
       "    <tr>\n",
       "      <th>Cuidado de animales</th>\n",
       "      <td>103</td>\n",
       "    </tr>\n",
       "    <tr>\n",
       "      <th>Otra</th>\n",
       "      <td>98</td>\n",
       "    </tr>\n",
       "    <tr>\n",
       "      <th>Transito por trocha atajo</th>\n",
       "      <td>59</td>\n",
       "    </tr>\n",
       "    <tr>\n",
       "      <th>Trabajos de casa</th>\n",
       "      <td>56</td>\n",
       "    </tr>\n",
       "    <tr>\n",
       "      <th>Caza pesca</th>\n",
       "      <td>49</td>\n",
       "    </tr>\n",
       "    <tr>\n",
       "      <th>Mantenimiento de infraestructura</th>\n",
       "      <td>25</td>\n",
       "    </tr>\n",
       "    <tr>\n",
       "      <th>Erradicacion  PONAL</th>\n",
       "      <td>24</td>\n",
       "    </tr>\n",
       "    <tr>\n",
       "      <th>Viajando</th>\n",
       "      <td>18</td>\n",
       "    </tr>\n",
       "    <tr>\n",
       "      <th>Labores de desminado</th>\n",
       "      <td>5</td>\n",
       "    </tr>\n",
       "    <tr>\n",
       "      <th>Labores de rescate</th>\n",
       "      <td>1</td>\n",
       "    </tr>\n",
       "  </tbody>\n",
       "</table>\n",
       "</div>"
      ],
      "text/plain": [
       "                                   count\n",
       "Actividad                               \n",
       "Fuerza publica                      6913\n",
       "Sin Informacion                     2108\n",
       "Pasando estando cerca               1112\n",
       "Agricultura                          366\n",
       "Erradicador manual  PCI              360\n",
       "Actividades fuerza publica           254\n",
       "Manipulacion                         192\n",
       "Transito por via usual               187\n",
       "Recogiendo comida agua o  madera     180\n",
       "Jugando                              136\n",
       "Erradicacion de cultivos ilicitos    118\n",
       "Cuidado de animales                  103\n",
       "Otra                                  98\n",
       "Transito por trocha atajo             59\n",
       "Trabajos de casa                      56\n",
       "Caza pesca                            49\n",
       "Mantenimiento de infraestructura      25\n",
       "Erradicacion  PONAL                   24\n",
       "Viajando                              18\n",
       "Labores de desminado                   5\n",
       "Labores de rescate                     1"
      ]
     },
     "execution_count": 217,
     "metadata": {},
     "output_type": "execute_result"
    }
   ],
   "source": [
    "total_victimas_x_actividad = pd.DataFrame(registro_map_limpia['Actividad'])\n",
    "total_victimas_x_actividad = pd.DataFrame(registro_map_limpia['Actividad'].value_counts())\n",
    "total_victimas_x_actividad"
   ]
  },
  {
   "cell_type": "code",
   "execution_count": 259,
   "metadata": {},
   "outputs": [
    {
     "data": {
      "text/plain": [
       "Text(0.5, 1.0, 'Total de victimas por actividad')"
      ]
     },
     "execution_count": 259,
     "metadata": {},
     "output_type": "execute_result"
    },
    {
     "data": {
      "image/png": "[encoded data removed]",
      "text/plain": [
       "<Figure size 640x480 with 1 Axes>"
      ]
     },
     "metadata": {},
     "output_type": "display_data"
    }
   ],
   "source": [
    "total_victimas_x_actividad.plot(kind='barh')\n",
    "plt.xlabel('Número de Victimas ')\n",
    "plt.ylabel('Actividad')\n",
    "plt.title('Total de victimas por actividad')"
   ]
  },
  {
   "cell_type": "markdown",
   "metadata": {},
   "source": [
    "### **3.5 - Total de víctimas por género.**"
   ]
  },
  {
   "cell_type": "code",
   "execution_count": 196,
   "metadata": {},
   "outputs": [
    {
     "data": {
      "text/plain": [
       "genero\n",
       "Hombre             11651\n",
       "Mujer                673\n",
       "Sin Informacion       40\n",
       "Name: count, dtype: int64"
      ]
     },
     "execution_count": 196,
     "metadata": {},
     "output_type": "execute_result"
    }
   ],
   "source": [
    "total_victimas_x_genero = pd.DataFrame(registro_map_limpia['genero'])\n",
    "total_victimas_x_genero = total_victimas_x_genero['genero'].value_counts()\n",
    "total_victimas_x_genero"
   ]
  },
  {
   "cell_type": "code",
   "execution_count": 244,
   "metadata": {},
   "outputs": [
    {
     "data": {
      "text/plain": [
       "Text(0, 0.5, '')"
      ]
     },
     "execution_count": 244,
     "metadata": {},
     "output_type": "execute_result"
    },
    {
     "data": {
      "image/png": "[encoded data removed]",
      "text/plain": [
       "<Figure size 800x600 with 1 Axes>"
      ]
     },
     "metadata": {},
     "output_type": "display_data"
    }
   ],
   "source": [
    "plt.figure(figsize=(8, 6))\n",
    "total_victimas_x_genero.plot.pie(autopct='%1.1f%%', startangle=180, labels=total_victimas_x_genero.index)\n",
    "plt.title('Distribución de víctimas por género')\n",
    "plt.ylabel('')"
   ]
  },
  {
   "cell_type": "markdown",
   "metadata": {},
   "source": [
    "### **3.6 - total de víctimas por estado.**"
   ]
  },
  {
   "cell_type": "code",
   "execution_count": 254,
   "metadata": {},
   "outputs": [
    {
     "data": {
      "text/html": [
       "<div>\n",
       "<style scoped>\n",
       "    .dataframe tbody tr th:only-of-type {\n",
       "        vertical-align: middle;\n",
       "    }\n",
       "\n",
       "    .dataframe tbody tr th {\n",
       "        vertical-align: top;\n",
       "    }\n",
       "\n",
       "    .dataframe thead th {\n",
       "        text-align: right;\n",
       "    }\n",
       "</style>\n",
       "<table border=\"1\" class=\"dataframe\">\n",
       "  <thead>\n",
       "    <tr style=\"text-align: right;\">\n",
       "      <th></th>\n",
       "      <th>estado</th>\n",
       "      <th>cantidad de victimas</th>\n",
       "    </tr>\n",
       "  </thead>\n",
       "  <tbody>\n",
       "    <tr>\n",
       "      <th>0</th>\n",
       "      <td>Herido</td>\n",
       "      <td>10013</td>\n",
       "    </tr>\n",
       "    <tr>\n",
       "      <th>1</th>\n",
       "      <td>Muerto</td>\n",
       "      <td>2351</td>\n",
       "    </tr>\n",
       "  </tbody>\n",
       "</table>\n",
       "</div>"
      ],
      "text/plain": [
       "   estado  cantidad de victimas\n",
       "0  Herido                 10013\n",
       "1  Muerto                  2351"
      ]
     },
     "execution_count": 254,
     "metadata": {},
     "output_type": "execute_result"
    }
   ],
   "source": [
    "total_victimas_x_estado = pd.DataFrame(registro_map_limpia['estado'])\n",
    "total_victimas_x_estado = pd.DataFrame(registro_map_limpia['estado'].value_counts()).reset_index()\n",
    "total_victimas_x_estado.columns = ['estado', 'cantidad de victimas']\n",
    "total_victimas_x_estado"
   ]
  },
  {
   "cell_type": "code",
   "execution_count": 285,
   "metadata": {},
   "outputs": [
    {
     "data": {
      "text/plain": [
       "Text(0.5, 1.0, 'Estado de las víctimas de minas antipersonas')"
      ]
     },
     "execution_count": 285,
     "metadata": {},
     "output_type": "execute_result"
    },
    {
     "data": {
      "image/png": "[encoded data removed]",
      "text/plain": [
       "<Figure size 1200x500 with 1 Axes>"
      ]
     },
     "metadata": {},
     "output_type": "display_data"
    }
   ],
   "source": [
    "sns.set_style('darkgrid')\n",
    "plt.figure(figsize=(12,5))\n",
    "sns.barplot(x='estado', y='cantidad de victimas', data = total_victimas_x_estado)\n",
    "plt.xticks( rotation=0)\n",
    "plt.title('Estado de las víctimas de minas antipersonas')"
   ]
  }
 ],
 "metadata": {
  "kernelspec": {
   "display_name": "Python 3 (ipykernel)",
   "language": "python",
   "name": "python3"
  },
  "language_info": {
   "codemirror_mode": {
    "name": "ipython",
    "version": 3
   },
   "file_extension": ".py",
   "mimetype": "text/x-python",
   "name": "python",
   "nbconvert_exporter": "python",
   "pygments_lexer": "ipython3",
   "version": "3.10.5"
  }
 },
 "nbformat": 4,
 "nbformat_minor": 4
}
